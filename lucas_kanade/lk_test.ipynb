{
 "cells": [
  {
   "cell_type": "markdown",
   "metadata": {},
   "source": [
    "## Lucas-Kanade法 の二段階追跡\n",
    "\n",
    "Lucas-Kanade法 の二段階追跡 の計算を簡単に試してみる\n",
    "\n",
    "https://ipsj.ixsq.nii.ac.jp/ej/index.php?active_action=repository_view_main_item_detail&page_id=13&block_id=8&item_id=52553&item_no=1"
   ]
  },
  {
   "cell_type": "code",
   "execution_count": null,
   "metadata": {},
   "outputs": [],
   "source": [
    "import cv2\n",
    "import numpy as np\n",
    "import matplotlib.pyplot as plt"
   ]
  },
  {
   "cell_type": "code",
   "execution_count": null,
   "metadata": {},
   "outputs": [],
   "source": [
    "img_src = cv2.imread(\"Mandrill.bmp\", 0).astype(np.float32) / 255.0\n",
    "\n",
    "w = img_src.shape[1]\n",
    "h = img_src.shape[0]\n",
    "cx = (w - 1) / 2\n",
    "cy = (h - 1) / 2\n",
    "trans = [0.3, 0.4]\n",
    "rot   = 0.02\n",
    "scale = 0.01\n",
    "\n",
    "mat = cv2.getRotationMatrix2D((cx, cy), np.rad2deg(rot), 1.0+scale)\n",
    "mat[0, 2] += trans[0]\n",
    "mat[1, 2] += trans[1]\n",
    "img_dst = cv2.warpAffine(img_src, mat, img_src.shape, flags=cv2.INTER_LINEAR, borderMode=cv2.BORDER_REPLICATE)\n",
    "\n",
    "plt.figure(figsize=(10, 5))\n",
    "plt.subplot(121)\n",
    "plt.title(\"Original\")\n",
    "plt.imshow(img_src, \"gray\")\n",
    "plt.subplot(122)\n",
    "plt.title(\"Transformed\")\n",
    "plt.imshow(img_dst, \"gray\")"
   ]
  },
  {
   "cell_type": "code",
   "execution_count": null,
   "metadata": {},
   "outputs": [],
   "source": [
    "sigma = 1.0\n",
    "img0 = cv2.GaussianBlur(img_src, (0, 0), sigma)\n",
    "img1 = cv2.GaussianBlur(img_dst, (0, 0), sigma)\n",
    "\n",
    "plt.figure(figsize=(10, 5))\n",
    "plt.subplot(121)\n",
    "plt.title(\"Original\")\n",
    "plt.imshow(img0, \"gray\")\n",
    "plt.subplot(122)\n",
    "plt.title(\"Transformed\")\n",
    "plt.imshow(img1, \"gray\")"
   ]
  },
  {
   "cell_type": "code",
   "execution_count": null,
   "metadata": {},
   "outputs": [],
   "source": [
    "def calc_grad(img):\n",
    "    '''勾配計算'''\n",
    "\n",
    "    # Sobleフィルタ\n",
    "    grad_x = cv2.Sobel(img, cv2.CV_32F, 1, 0, ksize=3)\n",
    "    grad_y = cv2.Sobel(img, cv2.CV_32F, 0, 1, ksize=3)\n",
    "    \n",
    "    # Sobelフィルタの係数総和の8で割って傾きを正規化\n",
    "    grad_x /= 8\n",
    "    grad_y /= 8\n",
    "    return grad_x, grad_y\n",
    "\n",
    "gx0, gy0 = calc_grad(img0)\n",
    "gx1, gy1 = calc_grad(img1)\n",
    "\n",
    "# 移動量推定\n",
    "diff  = img1 - img0\n",
    "gx = (gx0 + gx1) / 2\n",
    "gy = (gy0 + gy1) / 2\n",
    "\n",
    "gx2 = np.sum(gx**2)\n",
    "gxy = np.sum(gx*gy)\n",
    "gy2 = np.sum(gy**2)\n",
    "e0  = np.sum(diff*gx)\n",
    "e1  = np.sum(diff*gy)\n",
    "\n",
    "G = np.array([[gx2, gxy], [gxy, gy2]])\n",
    "E = np.array([e0, e1])\n",
    "D = np.linalg.solve(G, E)\n",
    "\n",
    "dx = -D[0]\n",
    "dy = -D[1]\n",
    "print(\"dx, dy = \", dx, dy)\n",
    "\n",
    "\n",
    "# 回転量推定\n",
    "x, y = np.meshgrid(np.arange(w)-cx, np.arange(h)-cy)\n",
    "a = np.sum((-gx*y + gy*x)**2)\n",
    "b = np.sum((-gx*y + gy*x)*(gx*x + gy*y))\n",
    "c = np.sum((-gx*y + gy*x)*(gx*x + gy*y))\n",
    "d = np.sum((gx*x + gy*y)**2)\n",
    "e0 = np.sum(diff * (-gx*y + gy*x))\n",
    "e1 = np.sum(diff * ( gx*x + gy*y))\n",
    "\n",
    "G = np.array([[a, b], [c, d]])\n",
    "E = np.array([e0, e1])\n",
    "D = np.linalg.solve(G, E)\n",
    "\n",
    "dt = D[0]\n",
    "ds = -D[1]\n",
    "print(\"dt, ds = \", dt, ds)\n",
    "\n",
    "# 誤差率\n",
    "err_x = (dx-trans[0]) / trans[0]\n",
    "err_y = (dy-trans[1]) / trans[1]\n",
    "err_t = (dt-rot) / rot\n",
    "err_s = (ds-scale) / scale\n",
    "\n",
    "# 結果表示\n",
    "print(f\"x     : {dx:0.5f} (err: {err_x*100:2.3f} %)\")\n",
    "print(f\"y     : {dy:0.5f} (err: {err_y*100:2.3f} %)\")\n",
    "print(f\"rot   : {dt:0.5f} (err: {err_t*100:2.3f} %)\")\n",
    "print(f\"scale : {ds:0.5f} (err: {err_s*100:2.3f} %)\")\n",
    "\n"
   ]
  },
  {
   "cell_type": "code",
   "execution_count": null,
   "metadata": {},
   "outputs": [],
   "source": []
  },
  {
   "cell_type": "code",
   "execution_count": null,
   "metadata": {},
   "outputs": [],
   "source": []
  }
 ],
 "metadata": {
  "kernelspec": {
   "display_name": "Python 3",
   "language": "python",
   "name": "python3"
  },
  "language_info": {
   "codemirror_mode": {
    "name": "ipython",
    "version": 3
   },
   "file_extension": ".py",
   "mimetype": "text/x-python",
   "name": "python",
   "nbconvert_exporter": "python",
   "pygments_lexer": "ipython3",
   "version": "3.9.12"
  }
 },
 "nbformat": 4,
 "nbformat_minor": 2
}

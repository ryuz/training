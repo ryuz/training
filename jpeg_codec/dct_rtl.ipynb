{
 "cells": [
  {
   "cell_type": "code",
   "execution_count": 18,
   "metadata": {},
   "outputs": [],
   "source": [
    "import numpy as np\n",
    "import matplotlib.pyplot as plt\n",
    "import cv2"
   ]
  },
  {
   "cell_type": "code",
   "execution_count": 19,
   "metadata": {},
   "outputs": [],
   "source": [
    "# リファレンス(浮動小数点版)\n",
    "R = np.ndarray((8))\n",
    "for i in range(8):\n",
    "    R[i] = np.cos(i / 16.0 * np.pi) * np.sqrt(2.0)\n",
    "INVSQRT2 = 1.0 / np.sqrt(2.0)\n",
    "\n",
    "def llm_dct_8(x):\n",
    "    y = np.ndarray((8))   \n",
    "    c1 = x[0]; c2 = x[7]; t0 = c1 + c2; t7 = c1 - c2\n",
    "    c1 = x[1]; c2 = x[6]; t1 = c1 + c2; t6 = c1 - c2\n",
    "    c1 = x[2]; c2 = x[5]; t2 = c1 + c2; t5 = c1 - c2\n",
    "    c1 = x[3]; c2 = x[4]; t3 = c1 + c2; t4 = c1 - c2\n",
    "    \n",
    "    c0 = t0 + t3; c3 = t0 - t3\n",
    "    c1 = t1 + t2; c2 = t1 - t2\n",
    "    \n",
    "    y[0] = c0 + c1\n",
    "    y[4] = c0 - c1\n",
    "    y[2] = c2 * R[6] + c3 * R[2]\n",
    "    y[6] = c3 * R[6] - c2 * R[2]\n",
    "\n",
    "    c3 = t4 * R[3] + t7 * R[5]\n",
    "    c0 = t7 * R[3] - t4 * R[5]\n",
    "    c2 = t5 * R[1] + t6 * R[7]\n",
    "    c1 = t6 * R[1] - t5 * R[7]\n",
    "    \n",
    "    y[5] = c3 - c1; y[3] = c0 - c2\n",
    "    c0 = (c0 + c2) * INVSQRT2\n",
    "    c3 = (c3 + c1) * INVSQRT2\n",
    "    y[1] = c0 + c3; y[7] = c0 - c3\n",
    "    for i in range(8):\n",
    "        y[i] *= INVSQRT2 * 0.5\n",
    "    return y"
   ]
  },
  {
   "cell_type": "code",
   "execution_count": 20,
   "metadata": {},
   "outputs": [
    {
     "name": "stdout",
     "output_type": "stream",
     "text": [
      "[145  49 137  62  71  92 153  74]\n"
     ]
    }
   ],
   "source": [
    "# ファイル読み込み\n",
    "img_src = cv2.imread(\"Mandrill.bmp\")\n",
    "w = img_src.shape[1]\n",
    "h = img_src.shape[0]\n",
    "# plt.imshow(img_src[:,:,::-1])\n",
    "\n",
    "# YCbCr化 (色相は縮小)\n",
    "img_ycrcb = cv2.cvtColor(img_src, cv2.COLOR_BGR2YCrCb)\n",
    "img_y = img_ycrcb[:,:,0]\n",
    "img_cr = cv2.resize(img_ycrcb[:,:,1], (w//2, h//2))\n",
    "img_cb = cv2.resize(img_ycrcb[:,:,2], (w//2, h//2))\n",
    "\n",
    "if False:\n",
    "    # 表示\n",
    "    plt.subplot(131)\n",
    "    plt.imshow(img_y, 'gray')\n",
    "    plt.subplot(132)\n",
    "    plt.imshow(img_cr, 'gray')\n",
    "    plt.subplot(133)\n",
    "    plt.imshow(img_cb, 'gray')\n",
    "\n",
    "print(img_y[0][0:8])"
   ]
  },
  {
   "cell_type": "code",
   "execution_count": 30,
   "metadata": {},
   "outputs": [
    {
     "name": "stdout",
     "output_type": "stream",
     "text": [
      "[276.83230483   3.20388141  34.56059356  20.09426522 -27.93071786\n",
      "  71.37149684  28.92776128  58.93695859]\n"
     ]
    }
   ],
   "source": [
    "# test データ\n",
    "x = np.array([\n",
    "    145,\n",
    "    49,\n",
    "    137,\n",
    "    62,\n",
    "    71,\n",
    "    92,\n",
    "    153,\n",
    "    74,\n",
    "])\n",
    "\n",
    "# 期待値\n",
    "y_exp = llm_dct_8(x)\n",
    "print(y_exp)"
   ]
  },
  {
   "cell_type": "code",
   "execution_count": 45,
   "metadata": {},
   "outputs": [
    {
     "name": "stdout",
     "output_type": "stream",
     "text": [
      "[277   3  34  20 -28  71  29  58]\n",
      "err mean :  -0.24956798490585885\n",
      "err std  :  0.3392061842912857\n"
     ]
    }
   ],
   "source": [
    "# 固定小数点版\n",
    "Q = 12\n",
    "QV = 2**Q\n",
    "QA = 2**(Q-1)\n",
    "\n",
    "QR = np.ndarray((8), dtype=np.int64)\n",
    "for i in range(8):\n",
    "    QR[i] = int(np.round(np.cos(i / 16.0 * np.pi) * np.sqrt(2.0) * QV))\n",
    "QINVSQRT2 = int(np.round(1.0 / np.sqrt(2.0) * QV))\n",
    "\n",
    "# 固定小数点乗算\n",
    "def fix_mul(a, b):\n",
    "    return ((a * b) + QA) >> Q\n",
    "\n",
    "x = np.array(x).astype(np.int64)\n",
    "st4_y = np.ndarray((8), dtype=np.int64)\n",
    "c1 = x[0]; c2 = x[7]; st0_t0 = c1 + c2; st0_t7 = c1 - c2\n",
    "c1 = x[1]; c2 = x[6]; st0_t1 = c1 + c2; st0_t6 = c1 - c2\n",
    "c1 = x[2]; c2 = x[5]; st0_t2 = c1 + c2; st0_t5 = c1 - c2\n",
    "c1 = x[3]; c2 = x[4]; st0_t3 = c1 + c2; st0_t4 = c1 - c2\n",
    "\n",
    "st1_c0 = st0_t0 + st0_t3\n",
    "st1_c3 = st0_t0 - st0_t3\n",
    "st1_c1 = st0_t1 + st0_t2\n",
    "st1_c2 = st0_t1 - st0_t2\n",
    "st1_t4 = st0_t4\n",
    "st1_t7 = st0_t7\n",
    "st1_t5 = st0_t5\n",
    "st1_t6 = st0_t6\n",
    "\n",
    "st2_c0 = st1_c1 + st1_c0\n",
    "st2_c1 = st1_c0 - st1_c1\n",
    "st2_c2 = fix_mul(st1_c2, QR[6]) + fix_mul(st1_c3, QR[2])\n",
    "st2_c3 = fix_mul(st1_c3, QR[6]) - fix_mul(st1_c2, QR[2])\n",
    "st2_c4 = fix_mul(st1_t7, QR[3]) + fix_mul(st1_t4, -QR[5])\n",
    "st2_c7 = fix_mul(st1_t4, QR[3]) - fix_mul(st1_t7, -QR[5])\n",
    "st2_c6 = fix_mul(st1_t5, QR[1]) + fix_mul(st1_t6, QR[7])\n",
    "st2_c5 = fix_mul(st1_t6, QR[1]) - fix_mul(st1_t5, QR[7])\n",
    "\n",
    "st3_y0 = st2_c0\n",
    "st3_y4 = st2_c1\n",
    "st3_y2 = st2_c2\n",
    "st3_y6 = st2_c3\n",
    "st3_y5 = st2_c7 - st2_c5; st3_t7 = fix_mul((st2_c7 + st2_c5), QINVSQRT2)\n",
    "st3_y3 = st2_c4 - st2_c6; st3_t4 = fix_mul((st2_c4 + st2_c6), QINVSQRT2)\n",
    "st3_y1 = st3_t4 + st3_t7\n",
    "st3_y7 = st3_t4 - st3_t7\n",
    "\n",
    "st4_y[0] = fix_mul(st3_y0, (QINVSQRT2+1) // 2)\n",
    "st4_y[1] = fix_mul(st3_y1, (QINVSQRT2+1) // 2)\n",
    "st4_y[2] = fix_mul(st3_y2, (QINVSQRT2+1) // 2)\n",
    "st4_y[3] = fix_mul(st3_y3, (QINVSQRT2+1) // 2)\n",
    "st4_y[4] = fix_mul(st3_y4, (QINVSQRT2+1) // 2)\n",
    "st4_y[5] = fix_mul(st3_y5, (QINVSQRT2+1) // 2)\n",
    "st4_y[6] = fix_mul(st3_y6, (QINVSQRT2+1) // 2)\n",
    "st4_y[7] = fix_mul(st3_y7, (QINVSQRT2+1) // 2)\n",
    "\n",
    "st5_y = st4_y / 16\n",
    "print(st4_y)\n",
    "print('err mean : ', np.mean(st4_y - y_exp))\n",
    "print('err std  : ', np.std(st4_y - y_exp))"
   ]
  },
  {
   "cell_type": "code",
   "execution_count": 34,
   "metadata": {},
   "outputs": [
    {
     "name": "stdout",
     "output_type": "stream",
     "text": [
      "st1 : 352 86 431 -27 -9 71 45 -104\n",
      "st2 : 783 -79 97 82 90 45 33 -156\n",
      "st3 : 783 -79 97 82 201 57 9 165\n",
      "out : 277 -28 34 29 71 20 3 58\n"
     ]
    }
   ],
   "source": [
    "print(\"st1 :\", st1_c0, st1_c3, st1_c1, st1_c2, st1_t4, st1_t7, st1_t5, st1_t6)\n",
    "print(\"st2 :\", st2_c0, st2_c1, st2_c2, st2_c3, st2_c4, st2_c7, st2_c6, st2_c5)\n",
    "print(\"st3 :\", st3_y0, st3_y4, st3_y2, st3_y6, st3_y5, st3_y3, st3_y1, st3_y7)\n",
    "print(\"out :\", st4_y[0], st4_y[4], st4_y[2], st4_y[6], st4_y[5], st4_y[3], st4_y[1], st4_y[7])"
   ]
  },
  {
   "cell_type": "code",
   "execution_count": 43,
   "metadata": {},
   "outputs": [
    {
     "name": "stdout",
     "output_type": "stream",
     "text": [
      "r : 0x16a09e668\n",
      "r : 0x163150b16\n",
      "r : 0x14e7ae914\n",
      "r : 0x12d062ef9\n",
      "r : 0x100000000\n",
      "r : 0xc9234e07\n",
      "r : 0x8a8bd3df\n",
      "r : 0x46a1577b\n",
      "  1/sqrt(2) : 0xb504f334\n",
      "0.5/sqrt(2) : 0x5a82799a\n"
     ]
    }
   ],
   "source": [
    "# table\n",
    "Q32 = 32\n",
    "Q32V = 2**Q32\n",
    "Q32A = 2**(Q32-1)\n",
    "\n",
    "Q32R = np.ndarray((8), dtype=np.int64)\n",
    "for i in range(8):\n",
    "    Q32R[i] = int(np.round(np.cos(i / 16.0 * np.pi) * np.sqrt(2.0) * Q32V))\n",
    "Q32INVSQRT2 = int(np.round(1.0 / np.sqrt(2.0) * Q32V))\n",
    "\n",
    "for v in Q32R:\n",
    "    print(\"r :\", hex(v))\n",
    "print(\"  1/sqrt(2) :\", hex(Q32INVSQRT2))\n",
    "print(\"0.5/sqrt(2) :\", hex(Q32INVSQRT2//2))\n"
   ]
  },
  {
   "cell_type": "code",
   "execution_count": null,
   "metadata": {},
   "outputs": [],
   "source": []
  }
 ],
 "metadata": {
  "kernelspec": {
   "display_name": "Python 3",
   "language": "python",
   "name": "python3"
  },
  "language_info": {
   "codemirror_mode": {
    "name": "ipython",
    "version": 3
   },
   "file_extension": ".py",
   "mimetype": "text/x-python",
   "name": "python",
   "nbconvert_exporter": "python",
   "pygments_lexer": "ipython3",
   "version": "3.9.12"
  }
 },
 "nbformat": 4,
 "nbformat_minor": 2
}

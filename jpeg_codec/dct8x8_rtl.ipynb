{
 "cells": [
  {
   "cell_type": "code",
   "execution_count": 1,
   "metadata": {},
   "outputs": [],
   "source": [
    "import numpy as np\n",
    "import matplotlib.pyplot as plt\n",
    "import cv2"
   ]
  },
  {
   "cell_type": "code",
   "execution_count": 2,
   "metadata": {},
   "outputs": [],
   "source": [
    "# リファレンス(浮動小数点版)\n",
    "R = np.ndarray((8))\n",
    "for i in range(8):\n",
    "    R[i] = np.cos(i / 16.0 * np.pi) * np.sqrt(2.0)\n",
    "INVSQRT2 = 1.0 / np.sqrt(2.0)\n",
    "\n",
    "def llm_dct_8(x):\n",
    "    y = np.ndarray((8))   \n",
    "    c1 = x[0]; c2 = x[7]; t0 = c1 + c2; t7 = c1 - c2\n",
    "    c1 = x[1]; c2 = x[6]; t1 = c1 + c2; t6 = c1 - c2\n",
    "    c1 = x[2]; c2 = x[5]; t2 = c1 + c2; t5 = c1 - c2\n",
    "    c1 = x[3]; c2 = x[4]; t3 = c1 + c2; t4 = c1 - c2\n",
    "    \n",
    "    c0 = t0 + t3; c3 = t0 - t3\n",
    "    c1 = t1 + t2; c2 = t1 - t2\n",
    "    \n",
    "    y[0] = c0 + c1\n",
    "    y[4] = c0 - c1\n",
    "    y[2] = c2 * R[6] + c3 * R[2]\n",
    "    y[6] = c3 * R[6] - c2 * R[2]\n",
    "\n",
    "    c3 = t4 * R[3] + t7 * R[5]\n",
    "    c0 = t7 * R[3] - t4 * R[5]\n",
    "    c2 = t5 * R[1] + t6 * R[7]\n",
    "    c1 = t6 * R[1] - t5 * R[7]\n",
    "    \n",
    "    y[5] = c3 - c1; y[3] = c0 - c2\n",
    "    c0 = (c0 + c2) * INVSQRT2\n",
    "    c3 = (c3 + c1) * INVSQRT2\n",
    "    y[1] = c0 + c3; y[7] = c0 - c3\n",
    "    for i in range(8):\n",
    "        y[i] *= INVSQRT2 * 0.5\n",
    "    return y\n",
    "\n",
    "\n",
    "def llm_dct_8x8(src):\n",
    "    dst = np.ndarray((8, 8))\n",
    "    for i in range(8):\n",
    "        dst[i, :] = llm_dct_8(src[i, :])\n",
    "    for i in range(8):\n",
    "        dst[:, i] = llm_dct_8(dst[:, i])\n",
    "    return dst"
   ]
  },
  {
   "cell_type": "code",
   "execution_count": 3,
   "metadata": {},
   "outputs": [],
   "source": [
    "# 固定小数点版\n",
    "Q = 12\n",
    "QV = 2**Q\n",
    "QA = 2**(Q-1)\n",
    "\n",
    "QR = np.ndarray((8), dtype=np.int64)\n",
    "for i in range(8):\n",
    "    QR[i] = int(np.round(np.cos(i / 16.0 * np.pi) * np.sqrt(2.0) * QV))\n",
    "QINVSQRT2 = int(np.round(1.0 / np.sqrt(2.0) * QV))\n",
    "\n",
    "# 固定小数点乗算\n",
    "def fix_mul(a, b):\n",
    "    return ((a * b) + QA) >> Q\n",
    "\n",
    "def fixpoint_llm_dct_8(x):\n",
    "    x = np.array(x).astype(np.int64)\n",
    "    c1 = x[0]; c2 = x[7]; st0_t0 = c1 + c2; st0_t7 = c1 - c2\n",
    "    c1 = x[1]; c2 = x[6]; st0_t1 = c1 + c2; st0_t6 = c1 - c2\n",
    "    c1 = x[2]; c2 = x[5]; st0_t2 = c1 + c2; st0_t5 = c1 - c2\n",
    "    c1 = x[3]; c2 = x[4]; st0_t3 = c1 + c2; st0_t4 = c1 - c2\n",
    "\n",
    "    st1_c0 = st0_t0 + st0_t3\n",
    "    st1_c3 = st0_t0 - st0_t3\n",
    "    st1_c1 = st0_t1 + st0_t2\n",
    "    st1_c2 = st0_t1 - st0_t2\n",
    "    st1_t4 = st0_t4\n",
    "    st1_t7 = st0_t7\n",
    "    st1_t5 = st0_t5\n",
    "    st1_t6 = st0_t6\n",
    "\n",
    "    st2_c0 = st1_c1 + st1_c0\n",
    "    st2_c1 = st1_c0 - st1_c1\n",
    "    st2_c2 = fix_mul(st1_c2, QR[6]) + fix_mul(st1_c3, QR[2])\n",
    "    st2_c3 = fix_mul(st1_c3, QR[6]) - fix_mul(st1_c2, QR[2])\n",
    "    st2_c4 = fix_mul(st1_t7, QR[3]) + fix_mul(st1_t4, -QR[5])\n",
    "    st2_c7 = fix_mul(st1_t4, QR[3]) - fix_mul(st1_t7, -QR[5])\n",
    "    st2_c6 = fix_mul(st1_t5, QR[1]) + fix_mul(st1_t6, QR[7])\n",
    "    st2_c5 = fix_mul(st1_t6, QR[1]) - fix_mul(st1_t5, QR[7])\n",
    "\n",
    "    st3_y0 = st2_c0\n",
    "    st3_y4 = st2_c1\n",
    "    st3_y2 = st2_c2\n",
    "    st3_y6 = st2_c3\n",
    "    st3_y5 = st2_c7 - st2_c5; st3_t7 = fix_mul((st2_c7 + st2_c5), QINVSQRT2)\n",
    "    st3_y3 = st2_c4 - st2_c6; st3_t4 = fix_mul((st2_c4 + st2_c6), QINVSQRT2)\n",
    "    st3_y1 = st3_t4 + st3_t7\n",
    "    st3_y7 = st3_t4 - st3_t7\n",
    "\n",
    "    st4_y = np.ndarray((8), dtype=np.int64)\n",
    "    st4_y[0] = fix_mul(st3_y0, (QINVSQRT2+1) // 2)\n",
    "    st4_y[1] = fix_mul(st3_y1, (QINVSQRT2+1) // 2)\n",
    "    st4_y[2] = fix_mul(st3_y2, (QINVSQRT2+1) // 2)\n",
    "    st4_y[3] = fix_mul(st3_y3, (QINVSQRT2+1) // 2)\n",
    "    st4_y[4] = fix_mul(st3_y4, (QINVSQRT2+1) // 2)\n",
    "    st4_y[5] = fix_mul(st3_y5, (QINVSQRT2+1) // 2)\n",
    "    st4_y[6] = fix_mul(st3_y6, (QINVSQRT2+1) // 2)\n",
    "    st4_y[7] = fix_mul(st3_y7, (QINVSQRT2+1) // 2)\n",
    "\n",
    "    return st4_y\n",
    "\n",
    "def fixpoint_llm_dct_8x8(src):\n",
    "    dst = np.ndarray((8, 8))\n",
    "    for i in range(8):\n",
    "        dst[i, :] = fixpoint_llm_dct_8(src[i, :])\n",
    "    for i in range(8):\n",
    "        dst[:, i] = fixpoint_llm_dct_8(dst[:, i])\n",
    "    return dst"
   ]
  },
  {
   "cell_type": "code",
   "execution_count": 4,
   "metadata": {},
   "outputs": [
    {
     "name": "stdout",
     "output_type": "stream",
     "text": [
      "[145, 49, 137, 62, 71, 92, 153, 74, ],\n",
      "[77, 46, 98, 60, 108, 49, 72, 30, ],\n",
      "[87, 132, 72, 67, 67, 89, 70, 35, ],\n",
      "[43, 134, 103, 61, 83, 93, 89, 84, ],\n",
      "[57, 56, 137, 66, 82, 147, 98, 134, ],\n",
      "[33, 57, 71, 84, 88, 172, 167, 120, ],\n",
      "[36, 90, 63, 80, 135, 113, 120, 103, ],\n",
      "[29, 84, 83, 25, 94, 152, 72, 64, ],\n"
     ]
    }
   ],
   "source": [
    "# ファイル読み込み\n",
    "img_src = cv2.imread(\"Mandrill.bmp\")\n",
    "w = img_src.shape[1]\n",
    "h = img_src.shape[0]\n",
    "# plt.imshow(img_src[:,:,::-1])\n",
    "\n",
    "# YCbCr化 (色相は縮小)\n",
    "img_ycrcb = cv2.cvtColor(img_src, cv2.COLOR_BGR2YCrCb)\n",
    "img_y = img_ycrcb[:,:,0]\n",
    "img_cr = cv2.resize(img_ycrcb[:,:,1], (w//2, h//2))\n",
    "img_cb = cv2.resize(img_ycrcb[:,:,2], (w//2, h//2))\n",
    "\n",
    "if False:\n",
    "    # 表示\n",
    "    plt.subplot(131)\n",
    "    plt.imshow(img_y, 'gray')\n",
    "    plt.subplot(132)\n",
    "    plt.imshow(img_cr, 'gray')\n",
    "    plt.subplot(133)\n",
    "    plt.imshow(img_cb, 'gray')\n",
    "\n",
    "#print(img_y[0:8][0:8])\n",
    "for i in range(8):\n",
    "    print(\"[\", end='')\n",
    "    for j in range(8):\n",
    "        print(f\"{img_y[i][j]}, \", end='')\n",
    "    print(\"],\")\n"
   ]
  },
  {
   "cell_type": "code",
   "execution_count": 5,
   "metadata": {},
   "outputs": [
    {
     "name": "stdout",
     "output_type": "stream",
     "text": [
      "{8'h91, 8'h31, 8'h89, 8'h3e, 8'h47, 8'h5c, 8'h99, 8'h4a, },\n",
      "{8'h4d, 8'h2e, 8'h62, 8'h3c, 8'h6c, 8'h31, 8'h48, 8'h1e, },\n",
      "{8'h57, 8'h84, 8'h48, 8'h43, 8'h43, 8'h59, 8'h46, 8'h23, },\n",
      "{8'h2b, 8'h86, 8'h67, 8'h3d, 8'h53, 8'h5d, 8'h59, 8'h54, },\n",
      "{8'h39, 8'h38, 8'h89, 8'h42, 8'h52, 8'h93, 8'h62, 8'h86, },\n",
      "{8'h21, 8'h39, 8'h47, 8'h54, 8'h58, 8'hac, 8'ha7, 8'h78, },\n",
      "{8'h24, 8'h5a, 8'h3f, 8'h50, 8'h87, 8'h71, 8'h78, 8'h67, },\n",
      "{8'h1d, 8'h54, 8'h53, 8'h19, 8'h5e, 8'h98, 8'h48, 8'h40, },\n"
     ]
    }
   ],
   "source": [
    "for i in range(8):\n",
    "    print(\"{\", end='')\n",
    "    for j in range(8):\n",
    "        print(f\"8'h{img_y[i][j]:02x}, \", end='')\n",
    "    print(\"},\")"
   ]
  },
  {
   "cell_type": "code",
   "execution_count": 6,
   "metadata": {},
   "outputs": [
    {
     "name": "stdout",
     "output_type": "stream",
     "text": [
      "[[693 -74 -26  33 -97 -18  24  32]\n",
      " [-18 107  32 -10  25  64  -3  48]\n",
      " [-22  17  -3  40  14  28   1  43]\n",
      " [ 72 -88  18  -6  12  74  32  24]\n",
      " [ 20   7  26 -20 -29  -3  56  13]\n",
      " [ 34  10  22  -4  -3  -4 -54 -11]\n",
      " [ 16  -8  27  29 -38  23   7 -37]\n",
      " [ 16  19  12   0  13   2  21  -3]]\n"
     ]
    }
   ],
   "source": [
    "# test データ\n",
    "src_x = np.array([\n",
    "[145, 49, 137, 62, 71, 92, 153, 74, ],\n",
    "[77, 46, 98, 60, 108, 49, 72, 30, ],\n",
    "[87, 132, 72, 67, 67, 89, 70, 35, ],\n",
    "[43, 134, 103, 61, 83, 93, 89, 84, ],\n",
    "[57, 56, 137, 66, 82, 147, 98, 134, ],\n",
    "[33, 57, 71, 84, 88, 172, 167, 120, ],\n",
    "[36, 90, 63, 80, 135, 113, 120, 103, ],\n",
    "[29, 84, 83, 25, 94, 152, 72, 64, ],\n",
    "])\n",
    "\n",
    "# 期待値\n",
    "y_exp = llm_dct_8x8(src_x)\n",
    "print(np.round(y_exp).astype(np.int32))"
   ]
  },
  {
   "cell_type": "code",
   "execution_count": 7,
   "metadata": {},
   "outputs": [
    {
     "name": "stdout",
     "output_type": "stream",
     "text": [
      "[[692. -74. -26.  33. -97. -18.  24.  31.]\n",
      " [-19. 107.  32. -11.  25.  64.  -4.  48.]\n",
      " [-23.  16.  -3.  40.  13.  28.   1.  42.]\n",
      " [ 71. -88.  18.  -6.  11.  73.  32.  23.]\n",
      " [ 20.   6.  25. -21. -30.  -4.  55.  13.]\n",
      " [ 33.   9.  22.  -4.  -4.  -4. -54. -11.]\n",
      " [ 15.  -8.  27.  28. -38.  23.   7. -37.]\n",
      " [ 15.  19.  12.  -1.  13.   1.  21.  -4.]]\n",
      "err mean :  -0.005282940593393613\n",
      "err std  :  0.033746803678626175\n"
     ]
    }
   ],
   "source": [
    "Q = 12\n",
    "x = src_x.astype(np.int64) << (Q - 8)\n",
    "y = fixpoint_llm_dct_8x8(x)\n",
    "print(y // 2**(Q - 8))\n",
    "#print(y / 2**(Q - 8))\n",
    "err = y / 2**(Q - 8) - y_exp\n",
    "print('err mean : ', np.mean(err))\n",
    "print('err std  : ', np.std(err))"
   ]
  },
  {
   "cell_type": "code",
   "execution_count": 8,
   "metadata": {},
   "outputs": [
    {
     "data": {
      "text/plain": [
       "array([[11086, -1181,  -411,   531, -1551,  -283,   387,   510],\n",
       "       [ -291,  1712,   519,  -167,   404,  1029,   -56,   772],\n",
       "       [ -353,   270,   -48,   640,   217,   455,    21,   687],\n",
       "       [ 1150, -1403,   292,   -92,   191,  1177,   513,   380],\n",
       "       [  324,   104,   408,  -321,  -468,   -53,   892,   210],\n",
       "       [  538,   157,   352,   -62,   -56,   -64,  -862,  -169],\n",
       "       [  255,  -121,   432,   463,  -605,   375,   116,  -589],\n",
       "       [  248,   309,   198,    -7,   208,    25,   337,   -53]],\n",
       "      dtype=int32)"
      ]
     },
     "execution_count": 8,
     "metadata": {},
     "output_type": "execute_result"
    }
   ],
   "source": [
    "y.astype(np.int32)"
   ]
  },
  {
   "cell_type": "code",
   "execution_count": null,
   "metadata": {},
   "outputs": [],
   "source": []
  }
 ],
 "metadata": {
  "kernelspec": {
   "display_name": "Python 3",
   "language": "python",
   "name": "python3"
  },
  "language_info": {
   "codemirror_mode": {
    "name": "ipython",
    "version": 3
   },
   "file_extension": ".py",
   "mimetype": "text/x-python",
   "name": "python",
   "nbconvert_exporter": "python",
   "pygments_lexer": "ipython3",
   "version": "3.9.12"
  }
 },
 "nbformat": 4,
 "nbformat_minor": 2
}

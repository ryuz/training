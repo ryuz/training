{
 "cells": [
  {
   "cell_type": "code",
   "execution_count": 339,
   "metadata": {},
   "outputs": [],
   "source": [
    "import numpy as np\n",
    "\n",
    "class Quaternion():\n",
    "    def __init__(self, w, x, y, z):\n",
    "        self.quat = np.array([w, x, y, z])\n",
    "\n",
    "    @classmethod\n",
    "    def from_array(cls, quat):\n",
    "        if len(quat) == 3:\n",
    "            return cls(0, quat[0], quat[1], quat[2])\n",
    "        else:\n",
    "            return cls(quat[0], quat[1], quat[2], quat[3])\n",
    "\n",
    "    @classmethod\n",
    "    def from_rotation(cls, vec, theta):\n",
    "        vec = np.array(vec).reshape(3)\n",
    "        vec = vec/np.linalg.norm(vec)\n",
    "        t = theta / 2\n",
    "        s = np.sin(t)\n",
    "        c = np.cos(t)\n",
    "        return cls(c, vec[0]*s, vec[1]*s, vec[2]*s)    \n",
    "\n",
    "    def __array__(self) -> np.ndarray:\n",
    "        return self.quat\n",
    "        \n",
    "    def as_array(self):\n",
    "        return self.quat\n",
    "\n",
    "    def as_vector(self):\n",
    "        return self.as_array().reshape(4, 1)\n",
    "\n",
    "    def as_matrix(self):\n",
    "        q = self.as_array()\n",
    "        return np.array([\n",
    "                    [q[0], -q[1], -q[2], -q[3]],\n",
    "                    [q[1],  q[0], -q[3],  q[2]],\n",
    "                    [q[2],  q[3],  q[0], -q[1]],\n",
    "                    [q[3], -q[2],  q[1],  q[0]],\n",
    "                ])\n",
    "\n",
    "    def as_rotation_matrix(self):\n",
    "        w, x, y, z = self.as_array()\n",
    "        return np.array([\n",
    "                    [w*w + x*x - y*y - z*z, 2*(x*y - w*z), 2*(w*y + x*z)], \n",
    "                    [2*(w*z + x*y), w*w - x*x + y*y - z*z, 2*(-w*x + y*z)], \n",
    "                    [2*(x*z - w*y), 2*(y*z + w*x), w*w - x*x - y*y + z*z], \n",
    "                ])\n",
    "\n",
    "    def conjugate(self):\n",
    "        w, x, y, z = self.as_array()\n",
    "        return Quaternion(w, -x, -y, -z)\n",
    "\n",
    "    def norm(self, ord=2):\n",
    "        return np.linalg.norm(self.as_array(), ord=ord)\n",
    "\n",
    "    def normalize(self):\n",
    "        return self * (1.0 / self.norm())\n",
    "\n",
    "    def inverse(self):\n",
    "        return self.conjugate() * (1.0 / self.norm()**2)\n",
    "    \n",
    "    def __str__(self):\n",
    "        return str(self.quat)\n",
    "\n",
    "    def __repr__(self):\n",
    "        return str(self.quat)\n",
    "\n",
    "    def __pos__(self):\n",
    "        return Quaternion.from_array(self.as_array())\n",
    "\n",
    "    def __neg__(self):\n",
    "        return Quaternion.from_array(-self.as_array())\n",
    "\n",
    "    def __add__(self, other):\n",
    "        if type(other) == Quaternion: \n",
    "            return Quaternion.from_array(self.as_array() + other.as_array())\n",
    "        else:\n",
    "            return Quaternion.from_array(self.as_array() + other)\n",
    "    \n",
    "    def __sub__(self, other):\n",
    "        if type(other) == Quaternion: \n",
    "            return Quaternion.from_array(self.as_array() - other.as_array())\n",
    "        else:\n",
    "            return Quaternion.from_array(self.as_array() - other)\n",
    "        \n",
    "    def __mul__(self, other):\n",
    "        if type(other) == Quaternion: \n",
    "            w0, x0, y0, z0 = self.as_array()\n",
    "            w1, x1, y1, z1 = other.as_array()\n",
    "            return Quaternion(\n",
    "                    w0*w1 - x0*x1 - y0*y1 - z0*z1,\n",
    "                    x0*w1 + w0*x1 - z0*y1 + y0*z1,\n",
    "                    y0*w1 + z0*x1 + w0*y1 - x0*z1,\n",
    "                    z0*w1 - y0*x1 + x0*y1 + w0*z1,\n",
    "                )\n",
    "        else:\n",
    "            return Quaternion.from_array(self.as_array() * other)\n"
   ]
  },
  {
   "cell_type": "code",
   "execution_count": 341,
   "metadata": {},
   "outputs": [
    {
     "name": "stdout",
     "output_type": "stream",
     "text": [
      "scipy\n",
      "[[ 0.81379768 -0.46984631  0.34202014]\n",
      " [ 0.54383814  0.82317294 -0.16317591]\n",
      " [-0.20487413  0.31879578  0.92541658]]\n",
      "[[ 0.81379768 -0.46984631  0.34202014]\n",
      " [ 0.54383814  0.82317294 -0.16317591]\n",
      " [-0.20487413  0.31879578  0.92541658]]\n",
      "my class\n",
      "[[ 0.81379768 -0.46984631  0.34202014]\n",
      " [ 0.54383814  0.82317294 -0.16317591]\n",
      " [-0.20487413  0.31879578  0.92541658]]\n"
     ]
    }
   ],
   "source": [
    "# scipy と比較してみる\n",
    "from scipy.spatial.transform import Rotation\n",
    "euler = np.array([np.deg2rad(10),  np.deg2rad(20), np.deg2rad(30)])\n",
    "rot = Rotation.from_euler('XYZ', euler)\n",
    "print('scipy')\n",
    "print(rot.as_matrix())\n",
    "\n",
    "rot0 = Rotation.from_euler('XYZ', np.array([np.deg2rad(10), np.deg2rad(0), np.deg2rad(0)]))\n",
    "rot1 = Rotation.from_euler('XYZ', np.array([np.deg2rad(0), np.deg2rad(20), np.deg2rad(0)]))\n",
    "rot2 = Rotation.from_euler('XYZ', np.array([np.deg2rad(0), np.deg2rad(0), np.deg2rad(30)]))\n",
    "#print(rot0.as_quat())\n",
    "#print(rot1.as_quat())\n",
    "#print(rot2.as_quat())\n",
    "print((rot0*rot1*rot2).as_matrix())\n",
    "\n",
    "q0 = Quaternion.from_rotation([1, 0, 0], np.deg2rad(10))\n",
    "q1 = Quaternion.from_rotation([0, 1, 0], np.deg2rad(20))\n",
    "q2 = Quaternion.from_rotation([0, 0, 1], np.deg2rad(30))\n",
    "q = q0*q1*q2\n",
    "print('my class')\n",
    "print(q.as_rotation_matrix())\n"
   ]
  },
  {
   "cell_type": "code",
   "execution_count": 342,
   "metadata": {},
   "outputs": [],
   "source": [
    "from socket import socket, AF_INET, SOCK_DGRAM\n",
    "def send_udp(q):\n",
    "    S_PORT = 4002\n",
    "    ADDRESS = \"172.17.32.1\"\n",
    "    ss = socket(AF_INET, SOCK_DGRAM)\n",
    "    m = q.as_rotation_matrix()\n",
    "    s_msg = str(m[0][0])+','+str(m[0][1])+','+str(m[0][2])+','+str(m[1][0])+','+str(m[1][1])+','+str(m[1][2])+','+str(m[2][0])+','+str(m[2][1])+','+str(m[2][2])\n",
    "    ss.sendto(s_msg.encode(), (ADDRESS, S_PORT))\n",
    "    ss.close()"
   ]
  },
  {
   "cell_type": "code",
   "execution_count": 343,
   "metadata": {},
   "outputs": [],
   "source": [
    "\n",
    "p = Quaternion(1, 0, 0, 0)\n",
    "\n",
    "dt = 0.1\n",
    "q0 = Quaternion.from_rotation([1, 0, 0], dt*np.deg2rad(20))\n",
    "q1 = Quaternion.from_rotation([0, 1, 0], dt*np.deg2rad(10))\n",
    "q2 = Quaternion.from_rotation([0, 0, 1], dt*np.deg2rad(0))\n",
    "q = q0*q1*q2\n",
    "import time\n",
    "for i in range(200):\n",
    "    send_udp(p)\n",
    "    \n",
    "    p = (q*dt)*p\n",
    "    p = p.normalize()\n",
    "    time.sleep(0.01)"
   ]
  },
  {
   "cell_type": "code",
   "execution_count": 344,
   "metadata": {},
   "outputs": [],
   "source": [
    "# 適当な方向に向けてみるテスト\n",
    "send_udp(Quaternion.from_rotation([0, 0, 1], np.deg2rad(45)))"
   ]
  },
  {
   "cell_type": "code",
   "execution_count": 345,
   "metadata": {},
   "outputs": [],
   "source": [
    "# 基準から回す\n",
    "p = Quaternion(1, 0, 0, 0)\n",
    "q = Quaternion.from_rotation([0, 1, 1], np.deg2rad(45))\n",
    "p = q * p\n",
    "send_udp(p)"
   ]
  },
  {
   "cell_type": "code",
   "execution_count": 346,
   "metadata": {},
   "outputs": [],
   "source": [
    "# 現在の姿勢を基準に回す\n",
    "q = Quaternion.from_rotation([0, 1, 0], np.deg2rad(45))\n",
    "q1 = p * q * p.conjugate() # 座標系変換\n",
    "p1 = q1 * p\n",
    "send_udp(p1)"
   ]
  },
  {
   "cell_type": "code",
   "execution_count": 347,
   "metadata": {},
   "outputs": [],
   "source": [
    "# 現在の姿勢を基準に回す\n",
    "q = Quaternion.from_rotation([0, 0, 1], np.deg2rad(45))\n",
    "q2 = p1 * q * p1.conjugate() # 座標系変換\n",
    "p2 = q2 * p1\n",
    "send_udp(p2)"
   ]
  },
  {
   "cell_type": "code",
   "execution_count": 348,
   "metadata": {},
   "outputs": [],
   "source": [
    "#p = q.inverse() * p\n",
    "#send_udp(p)"
   ]
  },
  {
   "cell_type": "code",
   "execution_count": 349,
   "metadata": {},
   "outputs": [
    {
     "data": {
      "text/plain": [
       "[0.00000000e+00 2.22044605e-16 1.00000000e+00 0.00000000e+00]"
      ]
     },
     "execution_count": 349,
     "metadata": {},
     "output_type": "execute_result"
    }
   ],
   "source": [
    "v = Quaternion(0, 1, 0, 0)\n",
    "q = Quaternion.from_rotation([0, 0, 1], np.deg2rad(90))\n",
    "q * v * q.conjugate()"
   ]
  },
  {
   "cell_type": "code",
   "execution_count": null,
   "metadata": {},
   "outputs": [],
   "source": []
  }
 ],
 "metadata": {
  "interpreter": {
   "hash": "916dbcbb3f70747c44a77c7bcd40155683ae19c65e1c03b4aa3499c5328201f1"
  },
  "kernelspec": {
   "display_name": "Python 3.8.10 64-bit",
   "language": "python",
   "name": "python3"
  },
  "language_info": {
   "codemirror_mode": {
    "name": "ipython",
    "version": 3
   },
   "file_extension": ".py",
   "mimetype": "text/x-python",
   "name": "python",
   "nbconvert_exporter": "python",
   "pygments_lexer": "ipython3",
   "version": "3.8.10"
  }
 },
 "nbformat": 4,
 "nbformat_minor": 4
}

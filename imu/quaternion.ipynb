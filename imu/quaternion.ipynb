{
 "cells": [
  {
   "cell_type": "code",
   "execution_count": 1,
   "metadata": {},
   "outputs": [],
   "source": [
    "import numpy as np"
   ]
  },
  {
   "cell_type": "code",
   "execution_count": 2,
   "metadata": {},
   "outputs": [
    {
     "data": {
      "text/plain": [
       "array([[ 0.70710678, -0.70710678,  0.        ],\n",
       "       [ 0.70710678,  0.70710678,  0.        ],\n",
       "       [ 0.        ,  0.        ,  1.        ]])"
      ]
     },
     "execution_count": 2,
     "metadata": {},
     "output_type": "execute_result"
    }
   ],
   "source": [
    "from scipy.spatial.transform import Rotation\n",
    "\n",
    "euler = np.array([0,  0, np.deg2rad(45)])\n",
    "rot = Rotation.from_euler('XYZ', euler)\n",
    "rot.as_matrix()"
   ]
  },
  {
   "cell_type": "code",
   "execution_count": 3,
   "metadata": {},
   "outputs": [
    {
     "name": "stdout",
     "output_type": "stream",
     "text": [
      "[0.08715574 0.         0.         0.9961947 ]\n",
      "[0.         0.17364818 0.         0.98480775]\n",
      "[0.         0.         0.25881905 0.96592583]\n"
     ]
    }
   ],
   "source": [
    "rot0 = Rotation.from_euler('XYZ', np.array([np.deg2rad(10), np.deg2rad(0), np.deg2rad(0)]))\n",
    "rot1 = Rotation.from_euler('XYZ', np.array([np.deg2rad(0), np.deg2rad(20), np.deg2rad(0)]))\n",
    "rot2 = Rotation.from_euler('XYZ', np.array([np.deg2rad(0), np.deg2rad(0), np.deg2rad(30)]))\n",
    "print(rot0.as_quat())\n",
    "print(rot1.as_quat())\n",
    "print(rot2.as_quat())"
   ]
  },
  {
   "cell_type": "code",
   "execution_count": 14,
   "metadata": {},
   "outputs": [],
   "source": [
    "m = np.array([1 ,2 ,3])\n",
    "x, y, z = m"
   ]
  },
  {
   "cell_type": "code",
   "execution_count": 17,
   "metadata": {},
   "outputs": [
    {
     "data": {
      "text/plain": [
       "3"
      ]
     },
     "execution_count": 17,
     "metadata": {},
     "output_type": "execute_result"
    }
   ],
   "source": [
    "z"
   ]
  },
  {
   "cell_type": "code",
   "execution_count": 56,
   "metadata": {},
   "outputs": [],
   "source": [
    "class Quaternion():\n",
    "    def __init__(self, w, x, y, z):\n",
    "        self.quat = np.array([w, x, y, z])\n",
    "\n",
    "    @classmethod\n",
    "    def from_array(cls, quat):\n",
    "        return cls(quat[0], quat[1], quat[2], quat[3])\n",
    "\n",
    "    @classmethod\n",
    "    def from_rotation(cls, vec, theta):\n",
    "        t = theta / 2\n",
    "        s = np.sin(t)\n",
    "        c = np.cos(t)\n",
    "        return cls(c, vec[0]*s, vec[1]*s, vec[2]*s)    \n",
    "\n",
    "    def __array__(self) -> np.ndarray:\n",
    "        return self.quat\n",
    "        \n",
    "    def as_array(self):\n",
    "        return self.quat\n",
    "\n",
    "    def as_vector(self):\n",
    "        return self.as_array().reshape(4, 1)\n",
    "\n",
    "    def as_matrix(self):\n",
    "        w, x, y, z = self.as_array()\n",
    "        return np.array([\n",
    "                    [w*w + x*x - y*y - z*z, 2*(x*y - w*z), 2*(w*y + x*z)], \n",
    "                    [2*(w*z + x*y), w*w - x*x + y*y - z*z, 2*(-w*x + y*z)], \n",
    "                    [2*(x*z - w*y), 2*(y*z + w*x), w*w - x*x - y*y + z*z], \n",
    "                ])\n",
    "\n",
    "    def conjugate(self):\n",
    "        w, x, y, z = self.as_array()\n",
    "        return Quaternion(w, -x, -y, -z)\n",
    "\n",
    "    def norm(self, ord=2):\n",
    "        return np.linalg.norm(self.as_array(), ord=ord)\n",
    "\n",
    "    def normalize(self):\n",
    "        return self * (1.0 / self.norm())\n",
    "\n",
    "    def inverse(self):\n",
    "        return self.conjugate() * (1.0 / self.norm()**2)\n",
    "    \n",
    "    def __str__(self):\n",
    "        return str(self.quat)\n",
    "\n",
    "    def __repr__(self):\n",
    "        return str(self.quat)\n",
    "\n",
    "    def __pos__(self):\n",
    "        return Quaternion.from_array(self.as_array())\n",
    "\n",
    "    def __neg__(self):\n",
    "        return Quaternion.from_array(-self.as_array())\n",
    "\n",
    "    def __add__(self, other):\n",
    "        if type(other) == Quaternion: \n",
    "            return Quaternion.from_array(self.as_array() + other.as_array())\n",
    "        else:\n",
    "            return Quaternion.from_array(self.as_array() + other)\n",
    "    \n",
    "    def __sub__(self, other):\n",
    "        if type(other) == Quaternion: \n",
    "            return Quaternion.from_array(self.as_array() - other.as_array())\n",
    "        else:\n",
    "            return Quaternion.from_array(self.as_array() - other)\n",
    "        \n",
    "    def __mul__(self, other):\n",
    "        if type(other) == Quaternion: \n",
    "            w0, x0, y0, z0 = self.as_array()\n",
    "            w1, x1, y1, z1 = other.as_array()\n",
    "            return Quaternion(\n",
    "                    w0*w1 - x0*x1 - y0*y1 - z0*z1,\n",
    "                    x0*w1 + w0*x1 - z0*y1 + y0*z1,\n",
    "                    y0*w1 + z0*x1 + w0*y1 - x0*z1,\n",
    "                    z0*w1 - y0*x1 + x0*y1 + w0*z1,\n",
    "                )\n",
    "        else:\n",
    "            return Quaternion.from_array(self.as_array() * other)\n",
    "\n",
    "\n",
    "    def get_matrix2(self):\n",
    "        w, x, y, z = self.get_tuple()\n",
    "        return np.array([\n",
    "                    [1 - 2*y*y - 2*z*z, 2*x*y + 2*w*z, 2*x*z - 2*w*y], \n",
    "                    [2*x*y - 2*w*z, 1-2*x*x - 2*z*z, 2*y*z + 2*w*x], \n",
    "                    [2*x*z + 2*w*y, 2*y*z - 2*w*x, 1 - 2*x*x - 2*y*y], \n",
    "                ])"
   ]
  },
  {
   "cell_type": "code",
   "execution_count": 57,
   "metadata": {},
   "outputs": [
    {
     "data": {
      "text/plain": [
       "5.477225575051661"
      ]
     },
     "execution_count": 57,
     "metadata": {},
     "output_type": "execute_result"
    }
   ],
   "source": [
    "Quaternion(1, 2, 3, 4).conjugate().normalize().norm()"
   ]
  },
  {
   "cell_type": "code",
   "execution_count": 58,
   "metadata": {},
   "outputs": [
    {
     "data": {
      "text/plain": [
       "[ 0.03333333 -0.13333333 -0.3        -0.53333333]"
      ]
     },
     "execution_count": 58,
     "metadata": {},
     "output_type": "execute_result"
    }
   ],
   "source": [
    "q1*q0"
   ]
  },
  {
   "cell_type": "code",
   "execution_count": 40,
   "metadata": {},
   "outputs": [
    {
     "data": {
      "text/plain": [
       "'[ 0.03333333 -0.06666667 -0.1        -0.13333333]'"
      ]
     },
     "execution_count": 40,
     "metadata": {},
     "output_type": "execute_result"
    }
   ],
   "source": [
    "str(q1.as_array())"
   ]
  },
  {
   "cell_type": "code",
   "execution_count": 41,
   "metadata": {},
   "outputs": [],
   "source": [
    "q0 = Quaternion.from_rotation([1, 0, 0], np.deg2rad(10))\n",
    "q1 = Quaternion.from_rotation([0, 1, 0], np.deg2rad(20))\n",
    "q2 = Quaternion.from_rotation([0, 0, 1], np.deg2rad(30))"
   ]
  },
  {
   "cell_type": "code",
   "execution_count": 6,
   "metadata": {},
   "outputs": [
    {
     "name": "stdout",
     "output_type": "stream",
     "text": [
      "(0.9961946980917455, 0.08715574274765817, 0.0, 0.0)\n",
      "(0.984807753012208, 0.0, 0.17364817766693033, 0.0)\n",
      "(0.9659258262890683, 0.0, 0.0, 0.25881904510252074)\n"
     ]
    }
   ],
   "source": [
    "print(q0.as_tuple())\n",
    "print(q1.as_tuple())\n",
    "print(q2.as_tuple())"
   ]
  },
  {
   "cell_type": "code",
   "execution_count": 7,
   "metadata": {},
   "outputs": [
    {
     "name": "stdout",
     "output_type": "stream",
     "text": [
      "(0.943714364147489, 0.12767944069578063, 0.14487812541736914, 0.2685358227515692)\n"
     ]
    }
   ],
   "source": [
    "print((q0*q1*q2).as_tuple())"
   ]
  },
  {
   "cell_type": "code",
   "execution_count": 8,
   "metadata": {},
   "outputs": [
    {
     "name": "stdout",
     "output_type": "stream",
     "text": [
      "[0.12767944 0.14487813 0.26853582 0.94371436]\n"
     ]
    }
   ],
   "source": [
    "rot = Rotation.from_euler('XYZ', np.array([np.deg2rad(10), np.deg2rad(20), np.deg2rad(30)]))\n",
    "print(rot.as_quat())"
   ]
  },
  {
   "cell_type": "code",
   "execution_count": 9,
   "metadata": {},
   "outputs": [
    {
     "name": "stdout",
     "output_type": "stream",
     "text": [
      "[[ 0.81379768 -0.46984631  0.34202014]\n",
      " [ 0.54383814  0.82317294 -0.16317591]\n",
      " [-0.20487413  0.31879578  0.92541658]]\n"
     ]
    }
   ],
   "source": [
    "print(rot.as_matrix())"
   ]
  },
  {
   "cell_type": "code",
   "execution_count": 10,
   "metadata": {},
   "outputs": [
    {
     "name": "stdout",
     "output_type": "stream",
     "text": [
      "[[ 0.81379768 -0.46984631  0.34202014]\n",
      " [ 0.54383814  0.82317294 -0.16317591]\n",
      " [-0.20487413  0.31879578  0.92541658]]\n"
     ]
    }
   ],
   "source": [
    "m = (q0*q1*q2).as_matrix()\n",
    "print(m)"
   ]
  },
  {
   "cell_type": "code",
   "execution_count": 11,
   "metadata": {},
   "outputs": [],
   "source": [
    "v = np.array([[1], [0], [0]])"
   ]
  },
  {
   "cell_type": "code",
   "execution_count": 12,
   "metadata": {},
   "outputs": [
    {
     "data": {
      "text/plain": [
       "array([[ 0.81379768],\n",
       "       [ 0.54383814],\n",
       "       [-0.20487413]])"
      ]
     },
     "execution_count": 12,
     "metadata": {},
     "output_type": "execute_result"
    }
   ],
   "source": [
    "m @ v"
   ]
  },
  {
   "cell_type": "code",
   "execution_count": 13,
   "metadata": {},
   "outputs": [
    {
     "data": {
      "text/plain": [
       "array([0.26026043, 0.29531805, 0.5473806 ])"
      ]
     },
     "execution_count": 13,
     "metadata": {},
     "output_type": "execute_result"
    }
   ],
   "source": [
    "rot.as_rotvec()"
   ]
  },
  {
   "cell_type": "code",
   "execution_count": null,
   "metadata": {},
   "outputs": [],
   "source": []
  }
 ],
 "metadata": {
  "interpreter": {
   "hash": "916dbcbb3f70747c44a77c7bcd40155683ae19c65e1c03b4aa3499c5328201f1"
  },
  "kernelspec": {
   "display_name": "Python 3.8.10 64-bit",
   "language": "python",
   "name": "python3"
  },
  "language_info": {
   "codemirror_mode": {
    "name": "ipython",
    "version": 3
   },
   "file_extension": ".py",
   "mimetype": "text/x-python",
   "name": "python",
   "nbconvert_exporter": "python",
   "pygments_lexer": "ipython3",
   "version": "3.8.10"
  }
 },
 "nbformat": 4,
 "nbformat_minor": 4
}

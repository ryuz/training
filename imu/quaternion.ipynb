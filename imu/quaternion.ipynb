{
 "cells": [
  {
   "cell_type": "code",
   "execution_count": 13,
   "metadata": {},
   "outputs": [],
   "source": [
    "import numpy as np"
   ]
  },
  {
   "cell_type": "code",
   "execution_count": 14,
   "metadata": {},
   "outputs": [
    {
     "data": {
      "text/plain": [
       "array([[ 0.70710678, -0.70710678,  0.        ],\n",
       "       [ 0.70710678,  0.70710678,  0.        ],\n",
       "       [ 0.        ,  0.        ,  1.        ]])"
      ]
     },
     "execution_count": 14,
     "metadata": {},
     "output_type": "execute_result"
    }
   ],
   "source": [
    "from scipy.spatial.transform import Rotation\n",
    "\n",
    "euler = np.array([0,  0, np.deg2rad(45)])\n",
    "rot = Rotation.from_euler('XYZ', euler)\n",
    "rot.as_matrix()"
   ]
  },
  {
   "cell_type": "code",
   "execution_count": 15,
   "metadata": {},
   "outputs": [
    {
     "name": "stdout",
     "output_type": "stream",
     "text": [
      "[0.08715574 0.         0.         0.9961947 ]\n",
      "[0.         0.17364818 0.         0.98480775]\n",
      "[0.         0.         0.25881905 0.96592583]\n"
     ]
    }
   ],
   "source": [
    "rot0 = Rotation.from_euler('XYZ', np.array([np.deg2rad(10), np.deg2rad(0), np.deg2rad(0)]))\n",
    "rot1 = Rotation.from_euler('XYZ', np.array([np.deg2rad(0), np.deg2rad(20), np.deg2rad(0)]))\n",
    "rot2 = Rotation.from_euler('XYZ', np.array([np.deg2rad(0), np.deg2rad(0), np.deg2rad(30)]))\n",
    "print(rot0.as_quat())\n",
    "print(rot1.as_quat())\n",
    "print(rot2.as_quat())"
   ]
  },
  {
   "cell_type": "code",
   "execution_count": 16,
   "metadata": {},
   "outputs": [],
   "source": [
    "class Quaternion():\n",
    "    def __init__(self, w, x, y, z):\n",
    "#       self.quat = np.array(w, x, y, z)\n",
    "        self.w = w\n",
    "        self.x = x\n",
    "        self.y = y\n",
    "        self.z = z\n",
    "    \n",
    "    @classmethod\n",
    "    def from_rotation(cls, vec, theta):\n",
    "        t = theta / 2\n",
    "        s = np.sin(t)\n",
    "        c = np.cos(t)\n",
    "        return cls(c, vec[0]*s, vec[1]*s, vec[2]*s)    \n",
    "    \n",
    "    def as_tuple(self):\n",
    "        return self.w, self.x, self.y, self.z\n",
    "    \n",
    "    def conjugate(self):\n",
    "        return Quaternion(self.w, -self.x, -self.y, -self.z)    \n",
    "\n",
    "    def norm(self, ord=2):\n",
    "        return np.linalg.norm(self.as_vector(), ord=ord)\n",
    "\n",
    "    def inverse(self):\n",
    "        pass\n",
    "    \n",
    "    def __mul__(self, other):\n",
    "        w0, x0, y0, z0 = self.as_tuple()\n",
    "        if type(other) == Quaternion: \n",
    "            w1, x1, y1, z1 = other.as_tuple()\n",
    "            return Quaternion(\n",
    "                    w0*w1 - x0*x1 - y0*y1 - z0*z1,\n",
    "                    x0*w1 + w0*x1 - z0*y1 + y0*z1,\n",
    "                    y0*w1 + z0*x1 + w0*y1 - x0*z1,\n",
    "                    z0*w1 - y0*x1 + x0*y1 + w0*z1,\n",
    "                )\n",
    "        else:\n",
    "            Quaternion(0, 0, 0, 0)\n",
    "        \n",
    "    def as_vector(self):\n",
    "        return np.array(self.as_tuple()).reshape(4, 1)\n",
    "        \n",
    "    def as_matrix(self):\n",
    "        w, x, y, z = self.as_tuple()\n",
    "        return np.array([\n",
    "                    [w*w + x*x - y*y - z*z, 2*(x*y - w*z), 2*(w*y + x*z)], \n",
    "                    [2*(w*z + x*y), w*w - x*x + y*y - z*z, 2*(-w*x + y*z)], \n",
    "                    [2*(x*z - w*y), 2*(y*z + w*x), w*w - x*x - y*y + z*z], \n",
    "                ])\n",
    "    \n",
    "    def get_matrix2(self):\n",
    "        w, x, y, z = self.get_tuple()\n",
    "        return np.array([\n",
    "                    [1 - 2*y*y - 2*z*z, 2*x*y + 2*w*z, 2*x*z - 2*w*y], \n",
    "                    [2*x*y - 2*w*z, 1-2*x*x - 2*z*z, 2*y*z + 2*w*x], \n",
    "                    [2*x*z + 2*w*y, 2*y*z - 2*w*x, 1 - 2*x*x - 2*y*y], \n",
    "                ])"
   ]
  },
  {
   "cell_type": "code",
   "execution_count": 17,
   "metadata": {},
   "outputs": [],
   "source": [
    "q0 = Quaternion.from_rotation([1, 0, 0], np.deg2rad(10))\n",
    "q1 = Quaternion.from_rotation([0, 1, 0], np.deg2rad(20))\n",
    "q2 = Quaternion.from_rotation([0, 0, 1], np.deg2rad(30))"
   ]
  },
  {
   "cell_type": "code",
   "execution_count": 18,
   "metadata": {},
   "outputs": [
    {
     "ename": "AttributeError",
     "evalue": "'Quaternion' object has no attribute 'w'",
     "output_type": "error",
     "traceback": [
      "\u001b[0;31m---------------------------------------------------------------------------\u001b[0m",
      "\u001b[0;31mAttributeError\u001b[0m                            Traceback (most recent call last)",
      "\u001b[0;32m<ipython-input-18-4b033bf557cc>\u001b[0m in \u001b[0;36m<module>\u001b[0;34m\u001b[0m\n\u001b[0;32m----> 1\u001b[0;31m \u001b[0mprint\u001b[0m\u001b[0;34m(\u001b[0m\u001b[0mq0\u001b[0m\u001b[0;34m.\u001b[0m\u001b[0mas_tuple\u001b[0m\u001b[0;34m(\u001b[0m\u001b[0;34m)\u001b[0m\u001b[0;34m)\u001b[0m\u001b[0;34m\u001b[0m\u001b[0;34m\u001b[0m\u001b[0m\n\u001b[0m\u001b[1;32m      2\u001b[0m \u001b[0mprint\u001b[0m\u001b[0;34m(\u001b[0m\u001b[0mq1\u001b[0m\u001b[0;34m.\u001b[0m\u001b[0mas_tuple\u001b[0m\u001b[0;34m(\u001b[0m\u001b[0;34m)\u001b[0m\u001b[0;34m)\u001b[0m\u001b[0;34m\u001b[0m\u001b[0;34m\u001b[0m\u001b[0m\n\u001b[1;32m      3\u001b[0m \u001b[0mprint\u001b[0m\u001b[0;34m(\u001b[0m\u001b[0mq2\u001b[0m\u001b[0;34m.\u001b[0m\u001b[0mas_tuple\u001b[0m\u001b[0;34m(\u001b[0m\u001b[0;34m)\u001b[0m\u001b[0;34m)\u001b[0m\u001b[0;34m\u001b[0m\u001b[0;34m\u001b[0m\u001b[0m\n",
      "\u001b[0;32m<ipython-input-16-d442e53e2a63>\u001b[0m in \u001b[0;36mas_tuple\u001b[0;34m(self)\u001b[0m\n\u001b[1;32m     14\u001b[0m \u001b[0;34m\u001b[0m\u001b[0m\n\u001b[1;32m     15\u001b[0m     \u001b[0;32mdef\u001b[0m \u001b[0mas_tuple\u001b[0m\u001b[0;34m(\u001b[0m\u001b[0mself\u001b[0m\u001b[0;34m)\u001b[0m\u001b[0;34m:\u001b[0m\u001b[0;34m\u001b[0m\u001b[0;34m\u001b[0m\u001b[0m\n\u001b[0;32m---> 16\u001b[0;31m         \u001b[0;32mreturn\u001b[0m \u001b[0mself\u001b[0m\u001b[0;34m.\u001b[0m\u001b[0mw\u001b[0m\u001b[0;34m,\u001b[0m \u001b[0mself\u001b[0m\u001b[0;34m.\u001b[0m\u001b[0mx\u001b[0m\u001b[0;34m,\u001b[0m \u001b[0mself\u001b[0m\u001b[0;34m.\u001b[0m\u001b[0my\u001b[0m\u001b[0;34m,\u001b[0m \u001b[0mself\u001b[0m\u001b[0;34m.\u001b[0m\u001b[0mz\u001b[0m\u001b[0;34m\u001b[0m\u001b[0;34m\u001b[0m\u001b[0m\n\u001b[0m\u001b[1;32m     17\u001b[0m \u001b[0;34m\u001b[0m\u001b[0m\n\u001b[1;32m     18\u001b[0m     \u001b[0;32mdef\u001b[0m \u001b[0mconjugate\u001b[0m\u001b[0;34m(\u001b[0m\u001b[0mself\u001b[0m\u001b[0;34m)\u001b[0m\u001b[0;34m:\u001b[0m\u001b[0;34m\u001b[0m\u001b[0;34m\u001b[0m\u001b[0m\n",
      "\u001b[0;31mAttributeError\u001b[0m: 'Quaternion' object has no attribute 'w'"
     ]
    }
   ],
   "source": [
    "print(q0.as_tuple())\n",
    "print(q1.as_tuple())\n",
    "print(q2.as_tuple())"
   ]
  },
  {
   "cell_type": "code",
   "execution_count": null,
   "metadata": {},
   "outputs": [
    {
     "name": "stdout",
     "output_type": "stream",
     "text": [
      "(0.943714364147489, 0.12767944069578063, 0.14487812541736914, 0.2685358227515692)\n"
     ]
    }
   ],
   "source": [
    "print((q0*q1*q2).as_tuple())"
   ]
  },
  {
   "cell_type": "code",
   "execution_count": null,
   "metadata": {},
   "outputs": [
    {
     "name": "stdout",
     "output_type": "stream",
     "text": [
      "[0.12767944 0.14487813 0.26853582 0.94371436]\n"
     ]
    }
   ],
   "source": [
    "rot = Rotation.from_euler('XYZ', np.array([np.deg2rad(10), np.deg2rad(20), np.deg2rad(30)]))\n",
    "print(rot.as_quat())"
   ]
  },
  {
   "cell_type": "code",
   "execution_count": null,
   "metadata": {},
   "outputs": [
    {
     "name": "stdout",
     "output_type": "stream",
     "text": [
      "[[ 0.81379768 -0.46984631  0.34202014]\n",
      " [ 0.54383814  0.82317294 -0.16317591]\n",
      " [-0.20487413  0.31879578  0.92541658]]\n"
     ]
    }
   ],
   "source": [
    "print(rot.as_matrix())"
   ]
  },
  {
   "cell_type": "code",
   "execution_count": null,
   "metadata": {},
   "outputs": [
    {
     "name": "stdout",
     "output_type": "stream",
     "text": [
      "[[ 0.81379768 -0.46984631  0.34202014]\n",
      " [ 0.54383814  0.82317294 -0.16317591]\n",
      " [-0.20487413  0.31879578  0.92541658]]\n"
     ]
    }
   ],
   "source": [
    "m = (q0*q1*q2).as_matrix()\n",
    "print(m)"
   ]
  },
  {
   "cell_type": "code",
   "execution_count": null,
   "metadata": {},
   "outputs": [],
   "source": [
    "v = np.array([[1], [0], [0]])"
   ]
  },
  {
   "cell_type": "code",
   "execution_count": null,
   "metadata": {},
   "outputs": [
    {
     "data": {
      "text/plain": [
       "array([[ 0.81379768],\n",
       "       [ 0.54383814],\n",
       "       [-0.20487413]])"
      ]
     },
     "execution_count": 14,
     "metadata": {},
     "output_type": "execute_result"
    }
   ],
   "source": [
    "m @ v"
   ]
  },
  {
   "cell_type": "code",
   "execution_count": null,
   "metadata": {},
   "outputs": [
    {
     "data": {
      "text/plain": [
       "array([0.26026043, 0.29531805, 0.5473806 ])"
      ]
     },
     "execution_count": 17,
     "metadata": {},
     "output_type": "execute_result"
    }
   ],
   "source": [
    "rot.as_rotvec()"
   ]
  },
  {
   "cell_type": "code",
   "execution_count": null,
   "metadata": {},
   "outputs": [],
   "source": []
  }
 ],
 "metadata": {
  "interpreter": {
   "hash": "916dbcbb3f70747c44a77c7bcd40155683ae19c65e1c03b4aa3499c5328201f1"
  },
  "kernelspec": {
   "display_name": "Python 3.8.10 64-bit",
   "language": "python",
   "name": "python3"
  },
  "language_info": {
   "codemirror_mode": {
    "name": "ipython",
    "version": 3
   },
   "file_extension": ".py",
   "mimetype": "text/x-python",
   "name": "python",
   "nbconvert_exporter": "python",
   "pygments_lexer": "ipython3",
   "version": "3.8.10"
  }
 },
 "nbformat": 4,
 "nbformat_minor": 4
}

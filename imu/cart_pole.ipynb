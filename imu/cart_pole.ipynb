{
 "cells": [
  {
   "cell_type": "code",
   "execution_count": 1,
   "metadata": {},
   "outputs": [],
   "source": [
    "# coding:utf-8\n",
    "import gym\n",
    "from gym import wrappers\n",
    "import numpy as np\n",
    "import time"
   ]
  },
  {
   "cell_type": "code",
   "execution_count": 2,
   "metadata": {},
   "outputs": [
    {
     "name": "stderr",
     "output_type": "stream",
     "text": [
      "/home/ryuji/.pyenv/versions/3.9.12/lib/python3.9/site-packages/gym/envs/classic_control/cartpole.py:163: UserWarning: \u001b[33mWARN: You are calling 'step()' even though this environment has already returned done = True. You should always call 'reset()' once you receive 'done = True' -- any further steps are undefined behavior.\u001b[0m\n",
      "  logger.warn(\n"
     ]
    },
    {
     "ename": "OverflowError",
     "evalue": "signed short integer is less than minimum",
     "output_type": "error",
     "traceback": [
      "\u001b[0;31m---------------------------------------------------------------------------\u001b[0m",
      "\u001b[0;31mOverflowError\u001b[0m                             Traceback (most recent call last)",
      "\u001b[1;32m/home/ryuji/git-work/training/imu/cart_pole.ipynb Cell 2\u001b[0m in \u001b[0;36m<cell line: 5>\u001b[0;34m()\u001b[0m\n\u001b[1;32m      <a href='vscode-notebook-cell://wsl%2Bubuntu-20.04-lts/home/ryuji/git-work/training/imu/cart_pole.ipynb#W1sdnNjb2RlLXJlbW90ZQ%3D%3D?line=6'>7</a>\u001b[0m     \u001b[39mfor\u001b[39;00m t \u001b[39min\u001b[39;00m \u001b[39mrange\u001b[39m(\u001b[39m1000\u001b[39m):\n\u001b[1;32m      <a href='vscode-notebook-cell://wsl%2Bubuntu-20.04-lts/home/ryuji/git-work/training/imu/cart_pole.ipynb#W1sdnNjb2RlLXJlbW90ZQ%3D%3D?line=7'>8</a>\u001b[0m         time\u001b[39m.\u001b[39msleep(\u001b[39m0.1\u001b[39m)\n\u001b[0;32m----> <a href='vscode-notebook-cell://wsl%2Bubuntu-20.04-lts/home/ryuji/git-work/training/imu/cart_pole.ipynb#W1sdnNjb2RlLXJlbW90ZQ%3D%3D?line=8'>9</a>\u001b[0m         env\u001b[39m.\u001b[39;49mrender()\n\u001b[1;32m     <a href='vscode-notebook-cell://wsl%2Bubuntu-20.04-lts/home/ryuji/git-work/training/imu/cart_pole.ipynb#W1sdnNjb2RlLXJlbW90ZQ%3D%3D?line=9'>10</a>\u001b[0m         observation, reward, done, info \u001b[39m=\u001b[39m env\u001b[39m.\u001b[39mstep(action)\n\u001b[1;32m     <a href='vscode-notebook-cell://wsl%2Bubuntu-20.04-lts/home/ryuji/git-work/training/imu/cart_pole.ipynb#W1sdnNjb2RlLXJlbW90ZQ%3D%3D?line=10'>11</a>\u001b[0m \u001b[39m#       print(observation, reward, done, info)\u001b[39;00m\n",
      "File \u001b[0;32m~/.pyenv/versions/3.9.12/lib/python3.9/site-packages/gym/core.py:286\u001b[0m, in \u001b[0;36mWrapper.render\u001b[0;34m(self, mode, **kwargs)\u001b[0m\n\u001b[1;32m    285\u001b[0m \u001b[39mdef\u001b[39;00m \u001b[39mrender\u001b[39m(\u001b[39mself\u001b[39m, mode\u001b[39m=\u001b[39m\u001b[39m\"\u001b[39m\u001b[39mhuman\u001b[39m\u001b[39m\"\u001b[39m, \u001b[39m*\u001b[39m\u001b[39m*\u001b[39mkwargs):\n\u001b[0;32m--> 286\u001b[0m     \u001b[39mreturn\u001b[39;00m \u001b[39mself\u001b[39;49m\u001b[39m.\u001b[39;49menv\u001b[39m.\u001b[39;49mrender(mode, \u001b[39m*\u001b[39;49m\u001b[39m*\u001b[39;49mkwargs)\n",
      "File \u001b[0;32m~/.pyenv/versions/3.9.12/lib/python3.9/site-packages/gym/core.py:286\u001b[0m, in \u001b[0;36mWrapper.render\u001b[0;34m(self, mode, **kwargs)\u001b[0m\n\u001b[1;32m    285\u001b[0m \u001b[39mdef\u001b[39;00m \u001b[39mrender\u001b[39m(\u001b[39mself\u001b[39m, mode\u001b[39m=\u001b[39m\u001b[39m\"\u001b[39m\u001b[39mhuman\u001b[39m\u001b[39m\"\u001b[39m, \u001b[39m*\u001b[39m\u001b[39m*\u001b[39mkwargs):\n\u001b[0;32m--> 286\u001b[0m     \u001b[39mreturn\u001b[39;00m \u001b[39mself\u001b[39;49m\u001b[39m.\u001b[39;49menv\u001b[39m.\u001b[39;49mrender(mode, \u001b[39m*\u001b[39;49m\u001b[39m*\u001b[39;49mkwargs)\n",
      "File \u001b[0;32m~/.pyenv/versions/3.9.12/lib/python3.9/site-packages/gym/envs/classic_control/cartpole.py:239\u001b[0m, in \u001b[0;36mCartPoleEnv.render\u001b[0;34m(self, mode)\u001b[0m\n\u001b[1;32m    236\u001b[0m gfxdraw\u001b[39m.\u001b[39maapolygon(\u001b[39mself\u001b[39m\u001b[39m.\u001b[39msurf, pole_coords, (\u001b[39m202\u001b[39m, \u001b[39m152\u001b[39m, \u001b[39m101\u001b[39m))\n\u001b[1;32m    237\u001b[0m gfxdraw\u001b[39m.\u001b[39mfilled_polygon(\u001b[39mself\u001b[39m\u001b[39m.\u001b[39msurf, pole_coords, (\u001b[39m202\u001b[39m, \u001b[39m152\u001b[39m, \u001b[39m101\u001b[39m))\n\u001b[0;32m--> 239\u001b[0m gfxdraw\u001b[39m.\u001b[39;49maacircle(\n\u001b[1;32m    240\u001b[0m     \u001b[39mself\u001b[39;49m\u001b[39m.\u001b[39;49msurf,\n\u001b[1;32m    241\u001b[0m     \u001b[39mint\u001b[39;49m(cartx),\n\u001b[1;32m    242\u001b[0m     \u001b[39mint\u001b[39;49m(carty \u001b[39m+\u001b[39;49m axleoffset),\n\u001b[1;32m    243\u001b[0m     \u001b[39mint\u001b[39;49m(polewidth \u001b[39m/\u001b[39;49m \u001b[39m2\u001b[39;49m),\n\u001b[1;32m    244\u001b[0m     (\u001b[39m129\u001b[39;49m, \u001b[39m132\u001b[39;49m, \u001b[39m203\u001b[39;49m),\n\u001b[1;32m    245\u001b[0m )\n\u001b[1;32m    246\u001b[0m gfxdraw\u001b[39m.\u001b[39mfilled_circle(\n\u001b[1;32m    247\u001b[0m     \u001b[39mself\u001b[39m\u001b[39m.\u001b[39msurf,\n\u001b[1;32m    248\u001b[0m     \u001b[39mint\u001b[39m(cartx),\n\u001b[0;32m   (...)\u001b[0m\n\u001b[1;32m    251\u001b[0m     (\u001b[39m129\u001b[39m, \u001b[39m132\u001b[39m, \u001b[39m203\u001b[39m),\n\u001b[1;32m    252\u001b[0m )\n\u001b[1;32m    254\u001b[0m gfxdraw\u001b[39m.\u001b[39mhline(\u001b[39mself\u001b[39m\u001b[39m.\u001b[39msurf, \u001b[39m0\u001b[39m, screen_width, carty, (\u001b[39m0\u001b[39m, \u001b[39m0\u001b[39m, \u001b[39m0\u001b[39m))\n",
      "\u001b[0;31mOverflowError\u001b[0m: signed short integer is less than minimum"
     ]
    }
   ],
   "source": [
    "env = gym.make('CartPole-v1')\n",
    "\n",
    "f = np.array([-0.03, -0.18, 1.59, 0.24])\n",
    "action = 0\n",
    "for i in range(10):\n",
    "    observation = env.reset()\n",
    "    for t in range(1000):\n",
    "        time.sleep(0.1)\n",
    "        env.render()\n",
    "        observation, reward, done, info = env.step(action)\n",
    "#       print(observation, reward, done, info)\n",
    "        u = np.sum(f * np.array(observation))\n",
    "        action = 0 if u < 0 else 1\n",
    "env.close()"
   ]
  },
  {
   "cell_type": "code",
   "execution_count": null,
   "metadata": {},
   "outputs": [],
   "source": []
  }
 ],
 "metadata": {
  "interpreter": {
   "hash": "92c0c7b6f40bdbb21ceb8cd3d4d7bfc93674b7f2f598eb62540fc61773e07404"
  },
  "kernelspec": {
   "display_name": "Python 3.9.12 64-bit ('3.9.12')",
   "language": "python",
   "name": "python3"
  },
  "language_info": {
   "codemirror_mode": {
    "name": "ipython",
    "version": 3
   },
   "file_extension": ".py",
   "mimetype": "text/x-python",
   "name": "python",
   "nbconvert_exporter": "python",
   "pygments_lexer": "ipython3",
   "version": "3.9.12"
  },
  "orig_nbformat": 4
 },
 "nbformat": 4,
 "nbformat_minor": 2
}

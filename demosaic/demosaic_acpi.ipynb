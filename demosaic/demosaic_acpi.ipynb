{
 "cells": [
  {
   "cell_type": "code",
   "execution_count": null,
   "id": "d141ba2f-9049-4350-85c5-f237d691a471",
   "metadata": {},
   "outputs": [],
   "source": [
    "import numpy as np\n",
    "import cv2\n",
    "import matplotlib.pyplot as plt"
   ]
  },
  {
   "cell_type": "code",
   "execution_count": null,
   "id": "e2371ca6-e870-4e08-a6ab-5da1898bcb2e",
   "metadata": {},
   "outputs": [],
   "source": [
    "def make_box_image(img, s):\n",
    "    m = s // 2\n",
    "    h = img.shape[0]\n",
    "    w = img.shape[1]\n",
    "    img_ext = cv2.copyMakeBorder(img, m, m, m, m, cv2.BORDER_REFLECT_101, 0)\n",
    "    ys = []\n",
    "    for y in range(s):\n",
    "        xs = []\n",
    "        for x in range(s):\n",
    "            xs.append(img_ext[y:y+h, x:x+w])\n",
    "        ys.append(xs)\n",
    "    return ys"
   ]
  },
  {
   "cell_type": "code",
   "execution_count": null,
   "id": "bf6107ac-6230-404f-9bdd-1c1905f782f5",
   "metadata": {},
   "outputs": [],
   "source": [
    "img_src = cv2.imread(\"Chrysanthemum_bayer_1024x768.pgm\", cv2.IMREAD_ANYDEPTH).astype(np.int32)\n",
    "raw = img_src"
   ]
  },
  {
   "cell_type": "code",
   "execution_count": null,
   "id": "55e2a99f-4679-42e3-896c-02cc45a299d1",
   "metadata": {},
   "outputs": [],
   "source": [
    "def demosaic_g(raw):\n",
    "    raws = make_box_image(raw, 5)\n",
    "\n",
    "    a = np.abs(-raws[0][2] + 2*raws[2][2] - raws[4][2]) + np.abs(raws[1][2] - raws[3][2])\n",
    "    b = np.abs(-raws[2][0] + 2*raws[2][2] - raws[2][4]) + np.abs(raws[2][1] - raws[2][3])\n",
    "\n",
    "    g0 = (raws[1][2] + raws[3][2]) * 2 + (-raws[0][2] + 2*raws[2][2] - raws[4][2])\n",
    "    g1 = (raws[2][1] + raws[2][3]) * 2 + (-raws[2][0] + 2*raws[2][2] - raws[2][4])\n",
    "\n",
    "    g = np.where(a < b, g0*2, g1*2)\n",
    "    g = np.where(a == b, g0+g1, g)\n",
    "#    g = g0+g1 # test\n",
    "    \n",
    "    g = g // 8\n",
    "    \n",
    "    g = np.where(g <    0,    0, g)\n",
    "    g = np.where(g > 1023, 1023, g)\n",
    "    \n",
    "    return g"
   ]
  },
  {
   "cell_type": "code",
   "execution_count": null,
   "id": "1dc899a6-4c4f-411f-bfc9-ef056ab2c036",
   "metadata": {},
   "outputs": [],
   "source": [
    "g = demosaic_g(raw)"
   ]
  },
  {
   "cell_type": "code",
   "execution_count": null,
   "id": "03338a78-1b2a-4196-bf90-f26ceacb3443",
   "metadata": {},
   "outputs": [],
   "source": [
    "p0=0\n",
    "p1=0\n",
    "n0=1-p0\n",
    "n1=1-p1\n",
    "\n",
    "g[p0::2,p1::2] =   g[p0::2,p1::2]\n",
    "g[p0::2,n1::2] = raw[p0::2,n1::2]\n",
    "g[n0::2,p1::2] = raw[n0::2,p1::2]\n",
    "g[n0::2,n1::2] =   g[n0::2,n1::2]"
   ]
  },
  {
   "cell_type": "code",
   "execution_count": null,
   "id": "429edfc9-6352-4c92-a629-714cc3514d5f",
   "metadata": {},
   "outputs": [],
   "source": []
  },
  {
   "cell_type": "code",
   "execution_count": null,
   "id": "70a77a8c-cec4-476d-9639-ebfbcc80b097",
   "metadata": {},
   "outputs": [],
   "source": [
    "plt.figure(figsize=(12,6))\n",
    "plt.subplot(121)\n",
    "plt.imshow(raw)\n",
    "plt.subplot(122)\n",
    "plt.imshow(g)"
   ]
  },
  {
   "cell_type": "code",
   "execution_count": null,
   "id": "2fd63a52-750f-4a5e-87f2-72ce4109577b",
   "metadata": {},
   "outputs": [],
   "source": [
    "raws = make_box_image(raw, 5)\n",
    "gs   = make_box_image(g, 5)"
   ]
  },
  {
   "cell_type": "code",
   "execution_count": null,
   "id": "ecd73833-d677-4798-8cda-5484c9f115a4",
   "metadata": {},
   "outputs": [],
   "source": [
    "a = np.abs(-gs[1][3] + 2*gs[2][2] - gs[3][1]) + np.abs(raws[1][3] - raws[3][1])\n",
    "b = np.abs(-gs[1][1] + 2*gs[2][2] - gs[3][3]) + np.abs(raws[1][1] - raws[3][3])\n",
    "print(a[2][0:10])\n",
    "print(b[2][0:10])"
   ]
  },
  {
   "cell_type": "code",
   "execution_count": null,
   "id": "ab419848-a33d-45d6-8626-90eb8bb73ac1",
   "metadata": {},
   "outputs": [],
   "source": [
    "r = (raws[1][3] + raws[3][1]) * 2 + (-gs[1][3] + 2*gs[2][2] - gs[3][1])\n",
    "l = (raws[1][1] + raws[3][3]) * 2 + (-gs[1][1] + 2*gs[2][2] - gs[3][3])\n",
    "print(r[2][0:16])\n",
    "print(l[2][0:16])"
   ]
  },
  {
   "cell_type": "code",
   "execution_count": null,
   "id": "3b27f993-59d1-4dc8-8b75-3e1a559536c6",
   "metadata": {},
   "outputs": [],
   "source": [
    "x = np.where(a < b, r*2, l*2)\n",
    "x = np.where(a == b, r+l, x)\n",
    "#x = r+l # test\n",
    "print(x[2][0:10]//8)"
   ]
  },
  {
   "cell_type": "code",
   "execution_count": null,
   "id": "586ed407-edc6-4e81-b5c5-de838d9107fa",
   "metadata": {},
   "outputs": [],
   "source": [
    "h = (raws[2][1] + raws[2][3]) * 2 + (-gs[2][1] + 2*gs[2][2] - gs[2][3])\n",
    "v = (raws[1][2] + raws[3][2]) * 2 + (-gs[1][2] + 2*gs[2][2] - gs[3][2])\n",
    "print(h[2][0:10])\n",
    "print(v[2][0:10])"
   ]
  },
  {
   "cell_type": "code",
   "execution_count": null,
   "id": "f8d850e6-709b-468c-a4fc-16030aec1085",
   "metadata": {},
   "outputs": [],
   "source": [
    "h = h // 4\n",
    "v = v // 4\n",
    "x = x // 8"
   ]
  },
  {
   "cell_type": "code",
   "execution_count": null,
   "id": "15eac523-6742-475b-bfa8-14df478c03af",
   "metadata": {},
   "outputs": [],
   "source": [
    "def img_clip(img):\n",
    "    img = np.where(img <    0,    0, img)\n",
    "    img = np.where(img > 1023, 1023, img)\n",
    "    return img"
   ]
  },
  {
   "cell_type": "code",
   "execution_count": null,
   "id": "44aaae60-69a0-4b42-8844-11e63d49a7de",
   "metadata": {},
   "outputs": [],
   "source": [
    "h = img_clip(h)\n",
    "v = img_clip(v)\n",
    "x = img_clip(x)"
   ]
  },
  {
   "cell_type": "code",
   "execution_count": null,
   "id": "e9a17787-4e14-4b2d-b45c-120e9b4bfb93",
   "metadata": {},
   "outputs": [],
   "source": [
    "print(raw[2][0:10])\n",
    "print(g[2][0:10])\n",
    "print(h[2][0:10])\n",
    "print(v[2][0:10])\n",
    "print(x[2][0:10])"
   ]
  },
  {
   "cell_type": "code",
   "execution_count": null,
   "id": "2ee4116c-6d27-4e64-b89b-ad19fdc9d5c7",
   "metadata": {},
   "outputs": [],
   "source": [
    "img = np.ndarray((3, raw.shape[0], raw.shape[1]), dtype=np.int32)\n",
    "\n",
    "img[0][p0::2,p1::2] = raw[p0::2,p1::2]\n",
    "img[0][p0::2,n1::2] =   h[p0::2,n1::2]\n",
    "img[0][n0::2,p1::2] =   v[n0::2,p1::2]\n",
    "img[0][n0::2,n1::2] =   x[n0::2,n1::2]\n",
    "\n",
    "img[1][p0::2,p1::2] =   g[p0::2,p1::2]\n",
    "img[1][p0::2,n1::2] = raw[p0::2,n1::2]\n",
    "img[1][n0::2,p1::2] = raw[n0::2,p1::2]\n",
    "img[1][n0::2,n1::2] =   g[n0::2,n1::2]\n",
    "\n",
    "img[2][p0::2,p1::2] =   x[p0::2,p1::2]\n",
    "img[2][p0::2,n1::2] =   v[p0::2,n1::2]\n",
    "img[2][n0::2,p1::2] =   h[n0::2,p1::2]\n",
    "img[2][n0::2,n1::2] = raw[n0::2,n1::2]\n",
    "\n",
    "img = img.transpose(1, 2, 0)\n",
    "\n",
    "plt.imshow(img)"
   ]
  },
  {
   "cell_type": "code",
   "execution_count": null,
   "id": "0315f980-1f0e-4b35-9908-d592b166db71",
   "metadata": {},
   "outputs": [],
   "source": [
    "imgu8 = (img // 4).astype(np.uint8)\n",
    "plt.figure(figsize=(8, 8))\n",
    "plt.imshow(imgu8[:64,:64,0])"
   ]
  },
  {
   "cell_type": "code",
   "execution_count": null,
   "id": "5b60db1e-8253-402c-9a38-4815c657305c",
   "metadata": {},
   "outputs": [],
   "source": [
    "imgu8 = (img // 4).astype(np.uint8)\n",
    "plt.figure(figsize=(8, 8))\n",
    "plt.imshow(imgu8[:64,:64,1])"
   ]
  },
  {
   "cell_type": "code",
   "execution_count": null,
   "id": "6a6006f2-c78f-48cd-8dbb-4c988ad23d6f",
   "metadata": {},
   "outputs": [],
   "source": [
    "imgu8 = (img // 4).astype(np.uint8)\n",
    "plt.figure(figsize=(8, 8))\n",
    "plt.imshow(imgu8[:64,:64,2])"
   ]
  },
  {
   "cell_type": "code",
   "execution_count": null,
   "id": "bdd13df2-c428-4dc1-bf6a-dc260361fbfb",
   "metadata": {},
   "outputs": [],
   "source": [
    "cv2.imwrite(\"demosaic.png\", imgu8[:,:,::-1])"
   ]
  }
 ],
 "metadata": {
  "kernelspec": {
   "display_name": "Python 3 (ipykernel)",
   "language": "python",
   "name": "python3"
  },
  "language_info": {
   "codemirror_mode": {
    "name": "ipython",
    "version": 3
   },
   "file_extension": ".py",
   "mimetype": "text/x-python",
   "name": "python",
   "nbconvert_exporter": "python",
   "pygments_lexer": "ipython3",
   "version": "3.7.9"
  }
 },
 "nbformat": 4,
 "nbformat_minor": 5
}

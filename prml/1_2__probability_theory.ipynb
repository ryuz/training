{
 "cells": [
  {
   "cell_type": "markdown",
   "id": "859a1812-6104-43bf-98f6-c2639e466acd",
   "metadata": {},
   "source": [
    "# 1.2 確率論"
   ]
  },
  {
   "cell_type": "code",
   "execution_count": 2,
   "id": "bc83b0fd-bc44-4a47-9f25-538deace050b",
   "metadata": {},
   "outputs": [],
   "source": [
    "import numpy as np\n",
    "import matplotlib.pyplot as plt\n",
    "plt.style.use('ggplot')\n",
    "%matplotlib inline"
   ]
  },
  {
   "cell_type": "markdown",
   "id": "331d8831-7f39-4eca-adcb-8d786d3cc1fa",
   "metadata": {},
   "source": [
    "PRMLの図1.9に\n",
    "\n",
    "- 赤い箱にリンゴが２個、オレンジが６個\n",
    "- 青い箱にリンゴが３個、オレンジが１個\n",
    "\n",
    "という絵が描かれており、赤の箱が選ばれる確率は 4/10 で、青い箱が選ばれるのが 6/10 だそうだ(人間が青を選びやすいことが予めわかってるとか、ルーレットを回してから取る事になってるとか、まあなんかあるんでしょう)。"
   ]
  },
  {
   "cell_type": "markdown",
   "id": "65950fcb-064e-4549-ac03-27f799ff7844",
   "metadata": {},
   "source": [
    "## 前提条件整理\n",
    "\n",
    "箱(B)に赤(r)と青(b)、果物(F)にリンゴ(a)とオレンジ(o)がり、前提条件としては下記のように数式で書ける\n",
    "\n",
    "$$\n",
    "\\begin{align}\n",
    "&P(B=r) &= 4/10 \\\\\n",
    "&P(B=b) &= 6/10 \\\\\n",
    "&P(F=a | B=r) &= 2/8 \\\\\n",
    "&P(F=o | B=r) &= 6/8 \\\\\n",
    "&P(F=a | B=b) &= 3/4 \\\\\n",
    "&P(F=o | B=b) &= 1/4 \\\\\n",
    "\\end{align}\n",
    "$$"
   ]
  },
  {
   "cell_type": "markdown",
   "id": "7b3a17db-cbee-4aed-9c1b-41a6043ca441",
   "metadata": {},
   "source": [
    "## 普通の確率計算\n",
    "\n",
    "ここでまあ、箱がどこか部屋にあって、人が入って取ってくるとしたときに、リンゴを持って帰ってくる確率は比較的簡単。\n",
    "\n",
    "赤を選んでリンゴを選ぶ確率 ＋ 青を選んで且つリンゴを選ぶ確率なので\n",
    "\n",
    "$$\n",
    "\\begin{align}\n",
    "P(F=a) &= P(F=a|B=r)P(B=r) + P(F=a|B=b)P(B=b)  \\\\\n",
    "       &= \\frac{2}{8} \\frac{4}{10} + \\frac{3}{4} \\frac{6}{10} \\\\\n",
    "       &= \\frac{1}{10} + \\frac{9}{20} \\\\\n",
    "       &= \\frac{11}{20}\n",
    "\\end{align}\n",
    "$$\n",
    "\n",
    "同様にオレンジを選ぶ確率は\n",
    "\n",
    "$$\n",
    "\\begin{align}\n",
    "P(F=a) &= P(F=o|B=r)P(B=r) + P(F=o|B=b)P(B=b)  \\\\\n",
    "       &= \\frac{6}{8} \\frac{4}{10} + \\frac{1}{4} \\frac{6}{10} \\\\\n",
    "       &= \\frac{3}{10} + \\frac{3}{20} \\\\\n",
    "       &= \\frac{9}{20}\n",
    "\\end{align}\n",
    "$$\n",
    "\n",
    "となる。\n",
    "\n",
    "乗法定理と加法定理が出てくるようだ。"
   ]
  },
  {
   "cell_type": "markdown",
   "id": "0d929212-f26f-4514-abc5-dd242d149dda",
   "metadata": {},
   "source": [
    "## 事後確率\n",
    "\n",
    "ここで、「オレンジを持って帰ってきた、さて赤い箱から選んだ確率は？」となると少し難しくなる。\n",
    "\n",
    "$ P(B=r|F=o) $ を求める問題となる。\n",
    "\n",
    "ここでベイズの定理が出てきて、自明ではあるが\n",
    "\n",
    "$$\n",
    "P(B=r|F=o)P(F=o) = P(F=o|B=r)P(B=r)\n",
    "$$\n",
    "\n",
    "であるから\n",
    "\n",
    "$$\n",
    "\\begin{align}\n",
    "P(B=r|F=o) &= \\frac{P(F=o|B=r)P(B=r)}{P(F=o)} \\\\\n",
    "           &= \\frac{ \\frac{6}{8} \\frac{4}{10} }{ \\frac{9}{20} } \\\\\n",
    "           &= \\frac{2}{3}\n",
    "\\end{align}\n",
    "$$\n",
    "\n",
    "となる。\n",
    "\n",
    "\n",
    "また「リンゴを持って帰ってきた、さて青い箱から選んだ確率は？」とかであれば $ P(B=b|F=a) $ を求める問題となり\n",
    "\n",
    "$$\n",
    "P(B=b|F=a)P(F=a) = P(F=a|B=b)P(B=b)\n",
    "$$\n",
    "\n",
    "であるから\n",
    "\n",
    "$$\n",
    "\\begin{align}\n",
    "P(B=b|F=a) &= \\frac{P(F=a|B=b)P(B=b)}{P(F=a)} \\\\\n",
    "           &= \\frac{ \\frac{3}{4} \\frac{6}{10} }{ \\frac{11}{20} } \\\\\n",
    "           &= \\frac{9}{11}\n",
    "\\end{align}\n",
    "$$\n",
    "\n",
    "となる"
   ]
  },
  {
   "cell_type": "code",
   "execution_count": null,
   "id": "2b3f3133-d878-446c-8010-22805d461b05",
   "metadata": {},
   "outputs": [],
   "source": []
  }
 ],
 "metadata": {
  "kernelspec": {
   "display_name": "Python 3",
   "language": "python",
   "name": "python3"
  },
  "language_info": {
   "codemirror_mode": {
    "name": "ipython",
    "version": 3
   },
   "file_extension": ".py",
   "mimetype": "text/x-python",
   "name": "python",
   "nbconvert_exporter": "python",
   "pygments_lexer": "ipython3",
   "version": "3.7.9"
  },
  "toc-showcode": true
 },
 "nbformat": 4,
 "nbformat_minor": 5
}

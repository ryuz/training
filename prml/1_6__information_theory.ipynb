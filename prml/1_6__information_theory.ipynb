{
 "cells": [
  {
   "cell_type": "markdown",
   "id": "df82232f-b949-4768-bb37-d543844da6ec",
   "metadata": {},
   "source": [
    "# 1.6 情報理論"
   ]
  },
  {
   "cell_type": "code",
   "execution_count": 1,
   "id": "9a3674fc-58d7-49ca-a3ca-4182467a3168",
   "metadata": {},
   "outputs": [],
   "source": [
    "import numpy as np\n",
    "import matplotlib.pyplot as plt\n",
    "plt.style.use('ggplot')\n",
    "%matplotlib inline"
   ]
  },
  {
   "cell_type": "markdown",
   "id": "96278be0-c661-4ff9-8506-04206475d017",
   "metadata": {},
   "source": [
    "## 情報エントロピーの式\n",
    "\n",
    "確率的に掛け算で起こる事象が、情報量としては足しあわされていくので、log になる。\n",
    "log2 を使うとビットになる。\n",
    "\n",
    "$ h(x) = -log_2 p(x) $"
   ]
  },
  {
   "cell_type": "code",
   "execution_count": 8,
   "id": "c19886aa-a084-4d9d-9d3c-c6a018713649",
   "metadata": {},
   "outputs": [
    {
     "data": {
      "text/plain": [
       "[<matplotlib.lines.Line2D at 0x187467a0248>]"
      ]
     },
     "execution_count": 8,
     "metadata": {},
     "output_type": "execute_result"
    },
    {
     "data": {
      "image/png": "[encoded data removed]",
      "text/plain": [
       "<Figure size 432x288 with 1 Axes>"
      ]
     },
     "metadata": {
      "needs_background": "light"
     },
     "output_type": "display_data"
    }
   ],
   "source": [
    "x = np.linspace(0.001, 1, 1000)\n",
    "y = -np.log2(x)\n",
    "plt.plot(x, y)"
   ]
  },
  {
   "cell_type": "markdown",
   "id": "1278f741-ba23-420c-a49c-8ebf06305a2e",
   "metadata": {},
   "source": [
    "50% の確率で起こる事象１つで1bitの情報量"
   ]
  },
  {
   "cell_type": "code",
   "execution_count": 9,
   "id": "f591aeac-9d82-4222-ae01-14319ef3d6a3",
   "metadata": {},
   "outputs": [
    {
     "data": {
      "text/plain": [
       "1.0"
      ]
     },
     "execution_count": 9,
     "metadata": {},
     "output_type": "execute_result"
    }
   ],
   "source": [
    "-np.log2(0.5)"
   ]
  },
  {
   "cell_type": "markdown",
   "id": "e9a3a0cf-04e6-4f6b-9929-1cf404250e38",
   "metadata": {},
   "source": [
    "## 通信時の情報量\n",
    "\n",
    "$ H[x] = - \\sum p(x) log_2 p(x) $"
   ]
  },
  {
   "cell_type": "markdown",
   "id": "e6b096e8-9473-4299-a459-4d0c552d7324",
   "metadata": {},
   "source": [
    "確率0.5で0と1を取る場合(表裏50%のコインを投げた結果を相手に伝える場合？)"
   ]
  },
  {
   "cell_type": "code",
   "execution_count": 15,
   "id": "4f3c5c7a-29a1-4bca-8e80-68e9b82aed11",
   "metadata": {},
   "outputs": [
    {
     "name": "stdout",
     "output_type": "stream",
     "text": [
      "1.0\n"
     ]
    }
   ],
   "source": [
    "p = np.array([0.5, 0.5])\n",
    "H = -np.sum(p * np.log2(p))\n",
    "print(H)"
   ]
  },
  {
   "cell_type": "markdown",
   "id": "bc06b4d0-5a7a-4553-884f-a750ca023e31",
   "metadata": {},
   "source": [
    "確率 0.3 と 0.7 で0と1を取る場合(偏ったコインとお互いが事前に知っている前提で、投げた結果を相手に伝える場合？)"
   ]
  },
  {
   "cell_type": "code",
   "execution_count": 19,
   "id": "51dcb403-17dd-4599-97aa-0e14f90c6fd8",
   "metadata": {},
   "outputs": [
    {
     "name": "stdout",
     "output_type": "stream",
     "text": [
      "0.8812908992306927\n"
     ]
    }
   ],
   "source": [
    "p = np.array([0.3, 0.7])\n",
    "H = -np.sum(p * np.log2(p))\n",
    "print(H)"
   ]
  },
  {
   "cell_type": "markdown",
   "id": "02097945-ba4a-4187-8a10-9b190799c1b1",
   "metadata": {},
   "source": [
    "確率を変えてプロットしてみる"
   ]
  },
  {
   "cell_type": "code",
   "execution_count": 22,
   "id": "519b61e0-916b-44d8-8748-c6b860987791",
   "metadata": {},
   "outputs": [
    {
     "data": {
      "text/plain": [
       "[<matplotlib.lines.Line2D at 0x18744640308>]"
      ]
     },
     "execution_count": 22,
     "metadata": {},
     "output_type": "execute_result"
    },
    {
     "data": {
      "image/png": "[encoded data removed]",
      "text/plain": [
       "<Figure size 432x288 with 1 Axes>"
      ]
     },
     "metadata": {
      "needs_background": "light"
     },
     "output_type": "display_data"
    }
   ],
   "source": [
    "B = np.linspace(0.001, 0.999, 100)\n",
    "H = []\n",
    "for x in B:\n",
    "    p = np.array([x, 1.0-x])\n",
    "    H.append(-np.sum(p * np.log2(p)))\n",
    "plt.plot(B, H)"
   ]
  },
  {
   "cell_type": "markdown",
   "id": "350b264d-37ed-43b5-93e3-3ca026f06c72",
   "metadata": {},
   "source": [
    "3 つ以上の場合も同様で、4値だと情報量は2bit分"
   ]
  },
  {
   "cell_type": "code",
   "execution_count": 30,
   "id": "f5dd21ee-d47a-4b0b-b834-d5fb9e06eca6",
   "metadata": {},
   "outputs": [
    {
     "name": "stdout",
     "output_type": "stream",
     "text": [
      "2.0\n"
     ]
    }
   ],
   "source": [
    "p = np.array([1/4, 1/4, 1/4, 1/4])\n",
    "H = -np.sum(p * np.log2(p))\n",
    "print(H)"
   ]
  },
  {
   "cell_type": "markdown",
   "id": "e3bc2ca4-34ee-42ac-872c-3480110fe192",
   "metadata": {},
   "source": [
    "こちらも発生確率がばらついていると情報量は減る"
   ]
  },
  {
   "cell_type": "code",
   "execution_count": 31,
   "id": "47f7f2cc-4692-47f9-92b8-d47eb3112ce6",
   "metadata": {},
   "outputs": [
    {
     "name": "stdout",
     "output_type": "stream",
     "text": [
      "1.9056390622295665\n"
     ]
    }
   ],
   "source": [
    "p = np.array([1/8, 2/8, 3/8, 2/8])\n",
    "H = -np.sum(p * np.log2(p))\n",
    "print(H)"
   ]
  },
  {
   "cell_type": "code",
   "execution_count": null,
   "id": "7c4c4751-cd3d-4236-8353-d158fe0e804a",
   "metadata": {},
   "outputs": [],
   "source": []
  }
 ],
 "metadata": {
  "kernelspec": {
   "display_name": "Python 3",
   "language": "python",
   "name": "python3"
  },
  "language_info": {
   "codemirror_mode": {
    "name": "ipython",
    "version": 3
   },
   "file_extension": ".py",
   "mimetype": "text/x-python",
   "name": "python",
   "nbconvert_exporter": "python",
   "pygments_lexer": "ipython3",
   "version": "3.7.9"
  }
 },
 "nbformat": 4,
 "nbformat_minor": 5
}
